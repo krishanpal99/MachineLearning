{
  "cells": [
    {
      "cell_type": "markdown",
      "metadata": {
        "id": "view-in-github",
        "colab_type": "text"
      },
      "source": [
        "<a href=\"https://colab.research.google.com/github/krishanpal99/MachineLearning/blob/main/numpy_and_pandas.ipynb\" target=\"_parent\"><img src=\"https://colab.research.google.com/assets/colab-badge.svg\" alt=\"Open In Colab\"/></a>"
      ]
    },
    {
      "cell_type": "markdown",
      "metadata": {
        "id": "QqewdxE369qm"
      },
      "source": [
        "This notebook is a hands-on project, completed by me in ***COURSERA***. This notebook covers the basic operations of the two important python libraries known as NumPy and Pandas.\n",
        "\n",
        "***NumPy*** and ***Pandas*** are two of the most widely used python libraries in Data Science. They offer high-performance, easy to use structures and data analysis tools."
      ]
    },
    {
      "cell_type": "markdown",
      "metadata": {
        "id": "KY6BBgp769qo"
      },
      "source": [
        "**GUIDED PROJECT LINK:** https://www.coursera.org/projects/python-for-data-analysis-numpy\n",
        "\n",
        "**ESTIMATED TIME: 1 Hour**"
      ]
    },
    {
      "cell_type": "markdown",
      "metadata": {
        "id": "x1Lz4az369qo"
      },
      "source": [
        "# TASK 1: DEFINE SINGLE AND MULTI-DIMENSIONAL  NUMPY ARRAYS"
      ]
    },
    {
      "cell_type": "code",
      "execution_count": null,
      "metadata": {
        "execution": {
          "iopub.execute_input": "2023-01-16T20:22:22.320140Z",
          "iopub.status.busy": "2023-01-16T20:22:22.318935Z",
          "iopub.status.idle": "2023-01-16T20:22:22.345131Z",
          "shell.execute_reply": "2023-01-16T20:22:22.344269Z",
          "shell.execute_reply.started": "2023-01-16T20:22:22.320020Z"
        },
        "trusted": true,
        "id": "4qjLZVGs69qo",
        "outputId": "8acec254-5562-47eb-ecae-1e5f19b1ffc2"
      },
      "outputs": [
        {
          "data": {
            "text/plain": [
              "[10, 20, 30, 40, 50, 60, 70]"
            ]
          },
          "execution_count": 1,
          "metadata": {},
          "output_type": "execute_result"
        }
      ],
      "source": [
        "# NumPy is a Linear Algebra Library used for multidimensional arrays\n",
        "# NumPy brings the best of two worlds: (1) C/Fortran computational efficiency, (2) Python language easy syntax\n",
        "\n",
        "# Let's define a one-dimensional array\n",
        "list = [10,20,30,40,50,60,70]\n",
        "list"
      ]
    },
    {
      "cell_type": "code",
      "execution_count": null,
      "metadata": {
        "execution": {
          "iopub.execute_input": "2023-01-16T20:22:22.347705Z",
          "iopub.status.busy": "2023-01-16T20:22:22.347363Z",
          "iopub.status.idle": "2023-01-16T20:22:22.354551Z",
          "shell.execute_reply": "2023-01-16T20:22:22.353649Z",
          "shell.execute_reply.started": "2023-01-16T20:22:22.347673Z"
        },
        "trusted": true,
        "id": "UUFZ5as469qp",
        "outputId": "09b82607-9c82-439e-ac67-d95c407d4de2"
      },
      "outputs": [
        {
          "data": {
            "text/plain": [
              "array([[10, 20, 30, 40, 50, 60, 70]])"
            ]
          },
          "execution_count": 2,
          "metadata": {},
          "output_type": "execute_result"
        }
      ],
      "source": [
        "# Let's create a numpy array from the list \"my_list\"\n",
        "import numpy as np\n",
        "array = np.array([list])\n",
        "array"
      ]
    },
    {
      "cell_type": "code",
      "execution_count": null,
      "metadata": {
        "execution": {
          "iopub.execute_input": "2023-01-16T20:22:22.356178Z",
          "iopub.status.busy": "2023-01-16T20:22:22.355938Z",
          "iopub.status.idle": "2023-01-16T20:22:22.365633Z",
          "shell.execute_reply": "2023-01-16T20:22:22.364838Z",
          "shell.execute_reply.started": "2023-01-16T20:22:22.356156Z"
        },
        "trusted": true,
        "id": "mQ45o9AQ69qp",
        "outputId": "13689e5a-a060-445d-9b37-4b598385b2db"
      },
      "outputs": [
        {
          "data": {
            "text/plain": [
              "numpy.ndarray"
            ]
          },
          "execution_count": 3,
          "metadata": {},
          "output_type": "execute_result"
        }
      ],
      "source": [
        "type(array)"
      ]
    },
    {
      "cell_type": "code",
      "execution_count": null,
      "metadata": {
        "execution": {
          "iopub.execute_input": "2023-01-16T20:22:22.367561Z",
          "iopub.status.busy": "2023-01-16T20:22:22.367296Z",
          "iopub.status.idle": "2023-01-16T20:22:22.375973Z",
          "shell.execute_reply": "2023-01-16T20:22:22.375319Z",
          "shell.execute_reply.started": "2023-01-16T20:22:22.367537Z"
        },
        "trusted": true,
        "id": "8EBDB6QG69qp",
        "outputId": "7d6b143c-665e-4e01-e89c-107c3a8e1394"
      },
      "outputs": [
        {
          "data": {
            "text/plain": [
              "array([[1, 2, 3],\n",
              "       [4, 5, 6]])"
            ]
          },
          "execution_count": 4,
          "metadata": {},
          "output_type": "execute_result"
        }
      ],
      "source": [
        "# Multi-dimensional (Matrix definition)\n",
        "multi_dim = np.array([[1,2,3],[4,5,6]])\n",
        "multi_dim"
      ]
    },
    {
      "cell_type": "markdown",
      "metadata": {
        "id": "gRL6H0mC69qp"
      },
      "source": [
        "MINI CHALLENGE #1:\n",
        "- Write a code that creates the following 2x4 numpy array\n",
        "\n",
        "```\n",
        "[[3 7 9 3]\n",
        "[4 3 2 2]]\n",
        "```"
      ]
    },
    {
      "cell_type": "code",
      "execution_count": null,
      "metadata": {
        "execution": {
          "iopub.execute_input": "2023-01-16T20:22:22.377234Z",
          "iopub.status.busy": "2023-01-16T20:22:22.376983Z",
          "iopub.status.idle": "2023-01-16T20:22:22.386255Z",
          "shell.execute_reply": "2023-01-16T20:22:22.385442Z",
          "shell.execute_reply.started": "2023-01-16T20:22:22.377205Z"
        },
        "trusted": true,
        "id": "CWAfyQ5Z69qq",
        "outputId": "43131e0b-8f41-45bb-e47b-d2b6c77bb71b"
      },
      "outputs": [
        {
          "name": "stdout",
          "output_type": "stream",
          "text": [
            "[[3 7 9 3]\n",
            " [4 3 2 2]]\n"
          ]
        }
      ],
      "source": [
        "arr1 = np.array([[3, 7, 9, 3],[4, 3, 2, 2]])\n",
        "print(arr1)"
      ]
    },
    {
      "cell_type": "markdown",
      "metadata": {
        "id": "Oq3nhCZ669qq"
      },
      "source": [
        "# TASK 2: LEVERAGE NUMPY BUILT-IN METHODS AND FUNCTIONS"
      ]
    },
    {
      "cell_type": "code",
      "execution_count": null,
      "metadata": {
        "execution": {
          "iopub.execute_input": "2023-01-16T20:22:22.426390Z",
          "iopub.status.busy": "2023-01-16T20:22:22.425374Z",
          "iopub.status.idle": "2023-01-16T20:22:22.433043Z",
          "shell.execute_reply": "2023-01-16T20:22:22.432262Z",
          "shell.execute_reply.started": "2023-01-16T20:22:22.426342Z"
        },
        "trusted": true,
        "id": "-Ypa8l0t69qq",
        "outputId": "d7f7c087-f56c-49d7-adff-c9de4d8e4475"
      },
      "outputs": [
        {
          "data": {
            "text/plain": [
              "array([0.73395807, 0.27039152, 0.63945809, 0.02798724, 0.28106951,\n",
              "       0.33249282, 0.68968979, 0.77272277, 0.3024405 , 0.71432799,\n",
              "       0.11558098, 0.7514207 , 0.70522934, 0.88189144, 0.2906262 ,\n",
              "       0.1188034 , 0.93168731, 0.54637973, 0.68970891, 0.0184013 ])"
            ]
          },
          "execution_count": 6,
          "metadata": {},
          "output_type": "execute_result"
        }
      ],
      "source": [
        "# \"rand()\" uniform distribution between 0 and 1\n",
        "random = np.random.rand(20)\n",
        "random"
      ]
    },
    {
      "cell_type": "code",
      "execution_count": null,
      "metadata": {
        "execution": {
          "iopub.execute_input": "2023-01-16T20:22:22.435014Z",
          "iopub.status.busy": "2023-01-16T20:22:22.434611Z",
          "iopub.status.idle": "2023-01-16T20:22:22.443391Z",
          "shell.execute_reply": "2023-01-16T20:22:22.442696Z",
          "shell.execute_reply.started": "2023-01-16T20:22:22.434987Z"
        },
        "trusted": true,
        "id": "589RNCaR69qq",
        "outputId": "73db74e9-1bcd-4987-f19f-b65de76810ac"
      },
      "outputs": [
        {
          "data": {
            "text/plain": [
              "array([[0.98302927, 0.36839415, 0.66867993],\n",
              "       [0.77597226, 0.061595  , 0.76066206],\n",
              "       [0.88466901, 0.06725156, 0.2082212 ]])"
            ]
          },
          "execution_count": 7,
          "metadata": {},
          "output_type": "execute_result"
        }
      ],
      "source": [
        "# you can create a matrix of random number as well\n",
        "x = np.random.rand(3,3)\n",
        "x"
      ]
    },
    {
      "cell_type": "code",
      "execution_count": null,
      "metadata": {
        "execution": {
          "iopub.execute_input": "2023-01-16T20:22:22.487882Z",
          "iopub.status.busy": "2023-01-16T20:22:22.487166Z",
          "iopub.status.idle": "2023-01-16T20:22:22.495210Z",
          "shell.execute_reply": "2023-01-16T20:22:22.494152Z",
          "shell.execute_reply.started": "2023-01-16T20:22:22.487837Z"
        },
        "trusted": true,
        "id": "OHDfMVZn69qq",
        "outputId": "da189ca0-a100-4161-938d-9f31099408e1"
      },
      "outputs": [
        {
          "data": {
            "text/plain": [
              "17"
            ]
          },
          "execution_count": 8,
          "metadata": {},
          "output_type": "execute_result"
        }
      ],
      "source": [
        "# \"randint\" is used to generate random integers between upper and lower bounds\n",
        "num = np.random.randint(1,50)\n",
        "num"
      ]
    },
    {
      "cell_type": "code",
      "execution_count": null,
      "metadata": {
        "execution": {
          "iopub.execute_input": "2023-01-16T20:22:22.525720Z",
          "iopub.status.busy": "2023-01-16T20:22:22.525401Z",
          "iopub.status.idle": "2023-01-16T20:22:22.532905Z",
          "shell.execute_reply": "2023-01-16T20:22:22.531936Z",
          "shell.execute_reply.started": "2023-01-16T20:22:22.525695Z"
        },
        "trusted": true,
        "id": "hrEQcgY669qq",
        "outputId": "ca926d00-8789-4cb5-b70d-b5d6e389d959"
      },
      "outputs": [
        {
          "data": {
            "text/plain": [
              "array([70, 65,  7,  1, 24, 51, 44,  3,  5, 24, 77, 12,  8, 38,  1, 81, 67],\n",
              "      dtype=int32)"
            ]
          },
          "execution_count": 9,
          "metadata": {},
          "output_type": "execute_result"
        }
      ],
      "source": [
        "# \"randint\" can be used to generate a certain number of random itegers as follows\n",
        "arr = np.random.randint(1,100,17)\n",
        "arr"
      ]
    },
    {
      "cell_type": "code",
      "execution_count": null,
      "metadata": {
        "execution": {
          "iopub.execute_input": "2023-01-16T20:22:22.535465Z",
          "iopub.status.busy": "2023-01-16T20:22:22.534919Z",
          "iopub.status.idle": "2023-01-16T20:22:22.542189Z",
          "shell.execute_reply": "2023-01-16T20:22:22.541517Z",
          "shell.execute_reply.started": "2023-01-16T20:22:22.535432Z"
        },
        "trusted": true,
        "id": "D_AdAzMl69qr",
        "outputId": "3fa60ad5-c9dc-4c64-d292-5cb23f73ba52"
      },
      "outputs": [
        {
          "data": {
            "text/plain": [
              "array([ 1,  2,  3,  4,  5,  6,  7,  8,  9, 10, 11, 12, 13, 14, 15, 16, 17,\n",
              "       18, 19, 20, 21, 22, 23, 24, 25, 26, 27, 28, 29, 30, 31, 32, 33, 34,\n",
              "       35, 36, 37, 38, 39, 40, 41, 42, 43, 44, 45, 46, 47, 48, 49])"
            ]
          },
          "execution_count": 10,
          "metadata": {},
          "output_type": "execute_result"
        }
      ],
      "source": [
        "# np.arange creates an evenly spaced values within a given interval\n",
        "x = np.arange(1,50)\n",
        "x"
      ]
    },
    {
      "cell_type": "code",
      "execution_count": null,
      "metadata": {
        "execution": {
          "iopub.execute_input": "2023-01-16T20:22:22.544097Z",
          "iopub.status.busy": "2023-01-16T20:22:22.543317Z",
          "iopub.status.idle": "2023-01-16T20:22:22.551863Z",
          "shell.execute_reply": "2023-01-16T20:22:22.551128Z",
          "shell.execute_reply.started": "2023-01-16T20:22:22.544063Z"
        },
        "trusted": true,
        "id": "MGTMoZjR69qr",
        "outputId": "4a413d9a-2345-47e7-889a-c6a8b60554f6"
      },
      "outputs": [
        {
          "data": {
            "text/plain": [
              "array([[1., 0., 0., 0., 0.],\n",
              "       [0., 1., 0., 0., 0.],\n",
              "       [0., 0., 1., 0., 0.],\n",
              "       [0., 0., 0., 1., 0.],\n",
              "       [0., 0., 0., 0., 1.]])"
            ]
          },
          "execution_count": 11,
          "metadata": {},
          "output_type": "execute_result"
        }
      ],
      "source": [
        "# create a diagonal of ones and zeros everywhere else\n",
        "i = np.eye(5)\n",
        "i"
      ]
    },
    {
      "cell_type": "code",
      "execution_count": null,
      "metadata": {
        "execution": {
          "iopub.execute_input": "2023-01-16T20:22:22.553952Z",
          "iopub.status.busy": "2023-01-16T20:22:22.552927Z",
          "iopub.status.idle": "2023-01-16T20:22:22.563385Z",
          "shell.execute_reply": "2023-01-16T20:22:22.562390Z",
          "shell.execute_reply.started": "2023-01-16T20:22:22.553918Z"
        },
        "trusted": true,
        "id": "AzENe77Y69qr",
        "outputId": "84e82363-b481-4380-d63b-aa39077b9988"
      },
      "outputs": [
        {
          "data": {
            "text/plain": [
              "array([[1., 1., 1.],\n",
              "       [1., 1., 1.],\n",
              "       [1., 1., 1.]])"
            ]
          },
          "execution_count": 12,
          "metadata": {},
          "output_type": "execute_result"
        }
      ],
      "source": [
        "# Matrix of ones\n",
        "one = np.ones((3,3))\n",
        "one"
      ]
    },
    {
      "cell_type": "code",
      "execution_count": null,
      "metadata": {
        "execution": {
          "iopub.execute_input": "2023-01-16T20:22:22.567057Z",
          "iopub.status.busy": "2023-01-16T20:22:22.565823Z",
          "iopub.status.idle": "2023-01-16T20:22:22.576420Z",
          "shell.execute_reply": "2023-01-16T20:22:22.575669Z",
          "shell.execute_reply.started": "2023-01-16T20:22:22.567008Z"
        },
        "trusted": true,
        "id": "5jleDPxI69qr",
        "outputId": "b8c77a02-1865-4546-b6e2-dbc282d4a1ac"
      },
      "outputs": [
        {
          "data": {
            "text/plain": [
              "array([[0., 0., 0.],\n",
              "       [0., 0., 0.],\n",
              "       [0., 0., 0.]])"
            ]
          },
          "execution_count": 13,
          "metadata": {},
          "output_type": "execute_result"
        }
      ],
      "source": [
        "# Array of zeros\n",
        "zero = np.zeros((3,3))\n",
        "zero"
      ]
    },
    {
      "cell_type": "markdown",
      "metadata": {
        "id": "vtpaH3rq69qr"
      },
      "source": [
        "MINI CHALLENGE #2:\n",
        "- Write a code that takes in a positive integer \"x\" from the user and creates a 1x10 array with random numbers ranging from 0 to \"x\""
      ]
    },
    {
      "cell_type": "code",
      "execution_count": null,
      "metadata": {
        "execution": {
          "iopub.execute_input": "2023-01-16T20:22:22.578629Z",
          "iopub.status.busy": "2023-01-16T20:22:22.577397Z",
          "iopub.status.idle": "2023-01-16T20:22:27.509222Z",
          "shell.execute_reply": "2023-01-16T20:22:27.507971Z",
          "shell.execute_reply.started": "2023-01-16T20:22:22.578579Z"
        },
        "trusted": true,
        "id": "L5keSRDT69qr",
        "outputId": "8a92a2e1-7554-4c09-ce4a-549c85ce8aa9"
      },
      "outputs": [
        {
          "data": {
            "text/plain": [
              "array([1, 3, 1, 3, 1, 3, 2, 4, 1, 2], dtype=int32)"
            ]
          },
          "execution_count": 18,
          "metadata": {},
          "output_type": "execute_result"
        }
      ],
      "source": [
        "x = input()\n",
        "arr = np.random.randint(1,x,10)\n",
        "arr"
      ]
    },
    {
      "cell_type": "markdown",
      "metadata": {
        "id": "6hpTWA9N69qr"
      },
      "source": [
        "# TASK 3: PERFORM MATHEMATICAL OPERATIONS IN NUMPY"
      ]
    },
    {
      "cell_type": "code",
      "execution_count": null,
      "metadata": {
        "execution": {
          "iopub.execute_input": "2023-01-16T20:22:27.510788Z",
          "iopub.status.busy": "2023-01-16T20:22:27.510502Z",
          "iopub.status.idle": "2023-01-16T20:22:27.517427Z",
          "shell.execute_reply": "2023-01-16T20:22:27.516719Z",
          "shell.execute_reply.started": "2023-01-16T20:22:27.510764Z"
        },
        "trusted": true,
        "id": "Rn-UJ3JQ69qr",
        "outputId": "c29ebe11-e4af-4c33-fc15-63c1ece2b34d"
      },
      "outputs": [
        {
          "data": {
            "text/plain": [
              "array([1, 2, 3, 4, 5, 6, 7, 8, 9])"
            ]
          },
          "execution_count": 19,
          "metadata": {},
          "output_type": "execute_result"
        }
      ],
      "source": [
        "# np.arange() returns an evenly spaced values within a given interval\n",
        "x = np.arange(1,10)\n",
        "x"
      ]
    },
    {
      "cell_type": "code",
      "execution_count": null,
      "metadata": {
        "execution": {
          "iopub.execute_input": "2023-01-16T20:22:27.519144Z",
          "iopub.status.busy": "2023-01-16T20:22:27.518633Z",
          "iopub.status.idle": "2023-01-16T20:22:27.527999Z",
          "shell.execute_reply": "2023-01-16T20:22:27.527283Z",
          "shell.execute_reply.started": "2023-01-16T20:22:27.519111Z"
        },
        "trusted": true,
        "id": "e7nz6Ho769qr",
        "outputId": "3d92ba92-3527-44e1-8e0f-b16f73283a63"
      },
      "outputs": [
        {
          "data": {
            "text/plain": [
              "array([1, 2, 3, 4, 5, 6, 7, 8, 9])"
            ]
          },
          "execution_count": 20,
          "metadata": {},
          "output_type": "execute_result"
        }
      ],
      "source": [
        "y = np.arange(1,10)\n",
        "y"
      ]
    },
    {
      "cell_type": "code",
      "execution_count": null,
      "metadata": {
        "execution": {
          "iopub.execute_input": "2023-01-16T20:22:27.530199Z",
          "iopub.status.busy": "2023-01-16T20:22:27.529619Z",
          "iopub.status.idle": "2023-01-16T20:22:27.540149Z",
          "shell.execute_reply": "2023-01-16T20:22:27.538848Z",
          "shell.execute_reply.started": "2023-01-16T20:22:27.530174Z"
        },
        "trusted": true,
        "id": "jM5ePsFz69qs",
        "outputId": "7ac77be4-0218-462e-9af1-58352cfadc78"
      },
      "outputs": [
        {
          "data": {
            "text/plain": [
              "array([ 2,  4,  6,  8, 10, 12, 14, 16, 18])"
            ]
          },
          "execution_count": 21,
          "metadata": {},
          "output_type": "execute_result"
        }
      ],
      "source": [
        "# Add 2 numpy arrays together\n",
        "sum = x+y\n",
        "sum"
      ]
    },
    {
      "cell_type": "code",
      "execution_count": null,
      "metadata": {
        "execution": {
          "iopub.execute_input": "2023-01-16T20:22:27.541948Z",
          "iopub.status.busy": "2023-01-16T20:22:27.541581Z",
          "iopub.status.idle": "2023-01-16T20:22:27.551047Z",
          "shell.execute_reply": "2023-01-16T20:22:27.549904Z",
          "shell.execute_reply.started": "2023-01-16T20:22:27.541917Z"
        },
        "trusted": true,
        "id": "FdQr-sHG69qs",
        "outputId": "91791969-0070-40b9-a67b-d1a8f34ef92c"
      },
      "outputs": [
        {
          "data": {
            "text/plain": [
              "array([ 1,  4,  9, 16, 25, 36, 49, 64, 81])"
            ]
          },
          "execution_count": 22,
          "metadata": {},
          "output_type": "execute_result"
        }
      ],
      "source": [
        "square = x**2\n",
        "square"
      ]
    },
    {
      "cell_type": "code",
      "execution_count": null,
      "metadata": {
        "execution": {
          "iopub.execute_input": "2023-01-16T20:22:27.553103Z",
          "iopub.status.busy": "2023-01-16T20:22:27.552357Z",
          "iopub.status.idle": "2023-01-16T20:22:27.562101Z",
          "shell.execute_reply": "2023-01-16T20:22:27.561247Z",
          "shell.execute_reply.started": "2023-01-16T20:22:27.553060Z"
        },
        "trusted": true,
        "id": "5x85HSuK69qs",
        "outputId": "138fd662-ef63-49ed-df22-7606bcc6ad80"
      },
      "outputs": [
        {
          "data": {
            "text/plain": [
              "array([1., 2., 3., 4., 5., 6., 7., 8., 9.])"
            ]
          },
          "execution_count": 23,
          "metadata": {},
          "output_type": "execute_result"
        }
      ],
      "source": [
        "sqrt = np.sqrt(square)\n",
        "sqrt"
      ]
    },
    {
      "cell_type": "code",
      "execution_count": null,
      "metadata": {
        "execution": {
          "iopub.execute_input": "2023-01-16T20:22:27.567022Z",
          "iopub.status.busy": "2023-01-16T20:22:27.566231Z",
          "iopub.status.idle": "2023-01-16T20:22:27.576255Z",
          "shell.execute_reply": "2023-01-16T20:22:27.574794Z",
          "shell.execute_reply.started": "2023-01-16T20:22:27.566987Z"
        },
        "trusted": true,
        "id": "GPzxvKP769qs",
        "outputId": "a55483a3-a27f-4fdb-89fe-6b6b1836557b"
      },
      "outputs": [
        {
          "data": {
            "text/plain": [
              "array([2.71828183e+00, 7.38905610e+00, 2.00855369e+01, 5.45981500e+01,\n",
              "       1.48413159e+02, 4.03428793e+02, 1.09663316e+03, 2.98095799e+03,\n",
              "       8.10308393e+03])"
            ]
          },
          "execution_count": 24,
          "metadata": {},
          "output_type": "execute_result"
        }
      ],
      "source": [
        "z = np.exp(y)\n",
        "z"
      ]
    },
    {
      "cell_type": "markdown",
      "metadata": {
        "id": "2yO-hKA769qs"
      },
      "source": [
        "MINI CHALLENGE #3:\n",
        "- Given the X and Y values below, obtain the distance between them\n",
        "\n",
        "```\n",
        "X = [5, 7, 20]\n",
        "Y = [9, 15, 4]\n",
        "```"
      ]
    },
    {
      "cell_type": "code",
      "execution_count": null,
      "metadata": {
        "execution": {
          "iopub.execute_input": "2023-01-16T20:22:27.578920Z",
          "iopub.status.busy": "2023-01-16T20:22:27.577858Z",
          "iopub.status.idle": "2023-01-16T20:22:27.588908Z",
          "shell.execute_reply": "2023-01-16T20:22:27.587749Z",
          "shell.execute_reply.started": "2023-01-16T20:22:27.578879Z"
        },
        "trusted": true,
        "id": "6KOmJlHm69qs",
        "outputId": "e2621a1d-2dfa-4980-91e6-350cd1ef03c8"
      },
      "outputs": [
        {
          "data": {
            "text/plain": [
              "array([10.29563014, 16.55294536, 20.39607805])"
            ]
          },
          "execution_count": 25,
          "metadata": {},
          "output_type": "execute_result"
        }
      ],
      "source": [
        "X = np.array([5, 7, 20])\n",
        "Y = np.array([9, 15, 4])\n",
        "a = X**2 + Y**2\n",
        "dist = np.sqrt(a)\n",
        "dist"
      ]
    },
    {
      "cell_type": "markdown",
      "metadata": {
        "id": "LQy_IgQU69qs"
      },
      "source": [
        "# TASK 4: PERFORM ARRAYS SLICING AND INDEXING"
      ]
    },
    {
      "cell_type": "code",
      "execution_count": null,
      "metadata": {
        "execution": {
          "iopub.execute_input": "2023-01-16T20:22:27.591531Z",
          "iopub.status.busy": "2023-01-16T20:22:27.590507Z",
          "iopub.status.idle": "2023-01-16T20:22:27.599298Z",
          "shell.execute_reply": "2023-01-16T20:22:27.598331Z",
          "shell.execute_reply.started": "2023-01-16T20:22:27.591487Z"
        },
        "trusted": true,
        "id": "EpL9hHUt69qs",
        "outputId": "913c0ed5-8cea-4195-ada2-38312d7c5cca"
      },
      "outputs": [
        {
          "data": {
            "text/plain": [
              "array([ 3,  5,  6,  2,  8, 10, 20, 50])"
            ]
          },
          "execution_count": 26,
          "metadata": {},
          "output_type": "execute_result"
        }
      ],
      "source": [
        "np_array = np.array([3,5,6,2,8,10,20,50])\n",
        "np_array"
      ]
    },
    {
      "cell_type": "code",
      "execution_count": null,
      "metadata": {
        "execution": {
          "iopub.execute_input": "2023-01-16T20:22:27.601075Z",
          "iopub.status.busy": "2023-01-16T20:22:27.600737Z",
          "iopub.status.idle": "2023-01-16T20:22:27.608968Z",
          "shell.execute_reply": "2023-01-16T20:22:27.608294Z",
          "shell.execute_reply.started": "2023-01-16T20:22:27.601045Z"
        },
        "trusted": true,
        "id": "5uZ1crYy69qs",
        "outputId": "5253c3f2-0f67-4619-fe22-907596fbdec1"
      },
      "outputs": [
        {
          "data": {
            "text/plain": [
              "np.int64(3)"
            ]
          },
          "execution_count": 27,
          "metadata": {},
          "output_type": "execute_result"
        }
      ],
      "source": [
        "# Access specific index from the numpy array\n",
        "np_array[0]"
      ]
    },
    {
      "cell_type": "code",
      "execution_count": null,
      "metadata": {
        "execution": {
          "iopub.execute_input": "2023-01-16T20:22:27.612081Z",
          "iopub.status.busy": "2023-01-16T20:22:27.609995Z",
          "iopub.status.idle": "2023-01-16T20:22:27.618119Z",
          "shell.execute_reply": "2023-01-16T20:22:27.617507Z",
          "shell.execute_reply.started": "2023-01-16T20:22:27.612045Z"
        },
        "trusted": true,
        "id": "7GHufPws69qt",
        "outputId": "21e5b7d2-b98f-454f-9bda-f19d05537b4c"
      },
      "outputs": [
        {
          "data": {
            "text/plain": [
              "array([ 3,  5,  6,  2,  8, 10, 20, 50])"
            ]
          },
          "execution_count": 28,
          "metadata": {},
          "output_type": "execute_result"
        }
      ],
      "source": [
        "# Starting from the first index 0 up until and NOT including the last element\n",
        "np_array[0:8]"
      ]
    },
    {
      "cell_type": "code",
      "execution_count": null,
      "metadata": {
        "execution": {
          "iopub.execute_input": "2023-01-16T20:22:27.620032Z",
          "iopub.status.busy": "2023-01-16T20:22:27.619134Z",
          "iopub.status.idle": "2023-01-16T20:22:27.628014Z",
          "shell.execute_reply": "2023-01-16T20:22:27.627219Z",
          "shell.execute_reply.started": "2023-01-16T20:22:27.620001Z"
        },
        "trusted": true,
        "id": "kVB4idfZ69qt",
        "outputId": "8f27356e-616a-46a2-f6a9-2cb32e361ffd"
      },
      "outputs": [
        {
          "data": {
            "text/plain": [
              "array([ 7,  7,  7,  7,  8, 10, 20, 50])"
            ]
          },
          "execution_count": 29,
          "metadata": {},
          "output_type": "execute_result"
        }
      ],
      "source": [
        "# Broadcasting, altering several values in a numpy array at once\n",
        "np_array[0:4] = 7\n",
        "np_array"
      ]
    },
    {
      "cell_type": "code",
      "execution_count": null,
      "metadata": {
        "execution": {
          "iopub.execute_input": "2023-01-16T20:22:27.629977Z",
          "iopub.status.busy": "2023-01-16T20:22:27.629047Z",
          "iopub.status.idle": "2023-01-16T20:22:27.640543Z",
          "shell.execute_reply": "2023-01-16T20:22:27.639650Z",
          "shell.execute_reply.started": "2023-01-16T20:22:27.629930Z"
        },
        "trusted": true,
        "id": "kPgSpauY69qt",
        "outputId": "5c338301-b469-413c-b8df-3c1f33f908e3"
      },
      "outputs": [
        {
          "data": {
            "text/plain": [
              "array([[5, 5, 2],\n",
              "       [1, 6, 3],\n",
              "       [2, 5, 1]], dtype=int32)"
            ]
          },
          "execution_count": 30,
          "metadata": {},
          "output_type": "execute_result"
        }
      ],
      "source": [
        "# Let's define a two dimensional numpy array\n",
        "matrix = np.random.randint(1,10,(3,3))\n",
        "matrix"
      ]
    },
    {
      "cell_type": "code",
      "execution_count": null,
      "metadata": {
        "execution": {
          "iopub.execute_input": "2023-01-16T20:22:27.642944Z",
          "iopub.status.busy": "2023-01-16T20:22:27.642152Z",
          "iopub.status.idle": "2023-01-16T20:22:27.649474Z",
          "shell.execute_reply": "2023-01-16T20:22:27.648303Z",
          "shell.execute_reply.started": "2023-01-16T20:22:27.642912Z"
        },
        "trusted": true,
        "id": "IjgfSuM969qt",
        "outputId": "cb93d1a3-c3e6-48fb-9bb0-968b0b9aa6bc"
      },
      "outputs": [
        {
          "data": {
            "text/plain": [
              "array([2, 5, 1], dtype=int32)"
            ]
          },
          "execution_count": 31,
          "metadata": {},
          "output_type": "execute_result"
        }
      ],
      "source": [
        "# Get a row from a matrix\n",
        "matrix[-1]"
      ]
    },
    {
      "cell_type": "code",
      "execution_count": null,
      "metadata": {
        "execution": {
          "iopub.execute_input": "2023-01-16T20:22:27.651639Z",
          "iopub.status.busy": "2023-01-16T20:22:27.650683Z",
          "iopub.status.idle": "2023-01-16T20:22:27.660377Z",
          "shell.execute_reply": "2023-01-16T20:22:27.659703Z",
          "shell.execute_reply.started": "2023-01-16T20:22:27.651604Z"
        },
        "trusted": true,
        "id": "azix1lj069qt",
        "outputId": "de89dc61-9a8f-4372-9265-34dbfc21e169"
      },
      "outputs": [
        {
          "data": {
            "text/plain": [
              "np.int32(3)"
            ]
          },
          "execution_count": 32,
          "metadata": {},
          "output_type": "execute_result"
        }
      ],
      "source": [
        "# Get one element\n",
        "matrix[1][2]"
      ]
    },
    {
      "cell_type": "markdown",
      "metadata": {
        "id": "wajWQdme69qt"
      },
      "source": [
        "MINI CHALLENGE #4:\n",
        "- In the following matrix, replace the last row with 0\n",
        "\n",
        "```\n",
        "X = [2 30 20 -2 -4]\n",
        "    [3 4  40 -3 -2]\n",
        "    [-3 4 -6 90 10]\n",
        "    [25 45 34 22 12]\n",
        "    [13 24 22 32 37]\n",
        "```"
      ]
    },
    {
      "cell_type": "code",
      "execution_count": null,
      "metadata": {
        "execution": {
          "iopub.execute_input": "2023-01-16T20:22:27.662097Z",
          "iopub.status.busy": "2023-01-16T20:22:27.661396Z",
          "iopub.status.idle": "2023-01-16T20:22:27.670328Z",
          "shell.execute_reply": "2023-01-16T20:22:27.669688Z",
          "shell.execute_reply.started": "2023-01-16T20:22:27.662059Z"
        },
        "trusted": true,
        "id": "_xSBvVxY69qt",
        "outputId": "235aae9d-53bc-4baa-dea8-37a89e23da81"
      },
      "outputs": [
        {
          "data": {
            "text/plain": [
              "array([[ 2, 30, 20, -2, -4],\n",
              "       [ 3,  4, 40, -3, -2],\n",
              "       [-3,  4, -6, 90, 10],\n",
              "       [25, 45, 34, 22, 12],\n",
              "       [ 0,  0,  0,  0,  0]])"
            ]
          },
          "execution_count": 33,
          "metadata": {},
          "output_type": "execute_result"
        }
      ],
      "source": [
        "X = np.array([[2, 30, 20, -2, -4] , [3, 4, 40, -3, -2] , [-3, 4, -6, 90, 10] , [25, 45, 34, 22, 12] , [13, 24, 22, 32, 37]])\n",
        "X[4] = 0\n",
        "X"
      ]
    },
    {
      "cell_type": "markdown",
      "metadata": {
        "id": "ItIAQtjh69qu"
      },
      "source": [
        "# TASK 5: PERFORM ELEMENTS SELECTION (CONDITIONAL)"
      ]
    },
    {
      "cell_type": "code",
      "execution_count": null,
      "metadata": {
        "execution": {
          "iopub.execute_input": "2023-01-16T20:22:27.672063Z",
          "iopub.status.busy": "2023-01-16T20:22:27.671551Z",
          "iopub.status.idle": "2023-01-16T20:22:27.680490Z",
          "shell.execute_reply": "2023-01-16T20:22:27.679628Z",
          "shell.execute_reply.started": "2023-01-16T20:22:27.672032Z"
        },
        "trusted": true,
        "id": "N5Msiisi69qu",
        "outputId": "20ec399c-1e45-499a-fb36-6f446e9b52d6"
      },
      "outputs": [
        {
          "data": {
            "text/plain": [
              "array([[8, 9, 4, 2, 5],\n",
              "       [2, 3, 7, 6, 1],\n",
              "       [9, 1, 4, 2, 4],\n",
              "       [7, 3, 9, 8, 6],\n",
              "       [7, 5, 2, 8, 2]], dtype=int32)"
            ]
          },
          "execution_count": 34,
          "metadata": {},
          "output_type": "execute_result"
        }
      ],
      "source": [
        "matrix = np.random.randint(1,10,(5,5))\n",
        "matrix"
      ]
    },
    {
      "cell_type": "code",
      "execution_count": null,
      "metadata": {
        "execution": {
          "iopub.execute_input": "2023-01-16T20:22:27.682271Z",
          "iopub.status.busy": "2023-01-16T20:22:27.681522Z",
          "iopub.status.idle": "2023-01-16T20:22:27.689747Z",
          "shell.execute_reply": "2023-01-16T20:22:27.688740Z",
          "shell.execute_reply.started": "2023-01-16T20:22:27.682228Z"
        },
        "trusted": true,
        "id": "zxrlaFN669qu",
        "outputId": "a466e7f3-e5e6-4935-aa96-f5e1e18ddd17"
      },
      "outputs": [
        {
          "data": {
            "text/plain": [
              "array([8, 9, 9, 9, 8, 8], dtype=int32)"
            ]
          },
          "execution_count": 35,
          "metadata": {},
          "output_type": "execute_result"
        }
      ],
      "source": [
        "new_matrix = matrix[matrix>7]\n",
        "new_matrix"
      ]
    },
    {
      "cell_type": "code",
      "execution_count": null,
      "metadata": {
        "execution": {
          "iopub.execute_input": "2023-01-16T20:22:27.691464Z",
          "iopub.status.busy": "2023-01-16T20:22:27.691150Z",
          "iopub.status.idle": "2023-01-16T20:22:27.700336Z",
          "shell.execute_reply": "2023-01-16T20:22:27.699487Z",
          "shell.execute_reply.started": "2023-01-16T20:22:27.691434Z"
        },
        "trusted": true,
        "id": "UJO2rP0569qu",
        "outputId": "d34fcb3a-c805-47b3-b1bf-3375420b12a0"
      },
      "outputs": [
        {
          "data": {
            "text/plain": [
              "array([9, 5, 3, 7, 1, 9, 1, 7, 3, 9, 7, 5], dtype=int32)"
            ]
          },
          "execution_count": 36,
          "metadata": {},
          "output_type": "execute_result"
        }
      ],
      "source": [
        "# Obtain odd elements only\n",
        "odd_matrix = matrix[matrix%2 != 0]\n",
        "odd_matrix"
      ]
    },
    {
      "cell_type": "markdown",
      "metadata": {
        "id": "Nu73m3Wg69qv"
      },
      "source": [
        "MINI CHALLENGE #5:\n",
        "- In the following matrix, replace negative elements by 0 and replace odd elements with -2\n",
        "\n",
        "\n",
        "```\n",
        "X = [2 30 20 -2 -4]\n",
        "    [3 4  40 -3 -2]\n",
        "    [-3 4 -6 90 10]\n",
        "    [25 45 34 22 12]\n",
        "    [13 24 22 32 37]\n",
        "```\n"
      ]
    },
    {
      "cell_type": "code",
      "execution_count": null,
      "metadata": {
        "execution": {
          "iopub.execute_input": "2023-01-16T20:22:27.702178Z",
          "iopub.status.busy": "2023-01-16T20:22:27.701667Z",
          "iopub.status.idle": "2023-01-16T20:22:27.712154Z",
          "shell.execute_reply": "2023-01-16T20:22:27.711019Z",
          "shell.execute_reply.started": "2023-01-16T20:22:27.702137Z"
        },
        "trusted": true,
        "id": "_wqrRez769qv",
        "outputId": "ae17eca9-04c9-4653-9ae9-854788ae09bd"
      },
      "outputs": [
        {
          "data": {
            "text/plain": [
              "array([[ 2, 30, 20, -2, -4],\n",
              "       [ 3,  4, 40, -3, -2],\n",
              "       [-3,  4, -6, 90, 10],\n",
              "       [25, 45, 34, 22, 12],\n",
              "       [13, 24, 22, 32, 37]])"
            ]
          },
          "execution_count": 37,
          "metadata": {},
          "output_type": "execute_result"
        }
      ],
      "source": [
        "X = np.array([[2, 30, 20, -2, -4] , [3, 4, 40, -3, -2] , [-3, 4, -6, 90, 10] , [25, 45, 34, 22, 12] , [13, 24, 22, 32, 37]])\n",
        "X"
      ]
    },
    {
      "cell_type": "code",
      "execution_count": null,
      "metadata": {
        "execution": {
          "iopub.execute_input": "2023-01-16T20:22:27.713544Z",
          "iopub.status.busy": "2023-01-16T20:22:27.713127Z",
          "iopub.status.idle": "2023-01-16T20:22:27.722365Z",
          "shell.execute_reply": "2023-01-16T20:22:27.721502Z",
          "shell.execute_reply.started": "2023-01-16T20:22:27.713511Z"
        },
        "trusted": true,
        "id": "06U7_UTB69qv",
        "outputId": "5a116c22-bc69-4791-a2af-9d5dd5ee526a"
      },
      "outputs": [
        {
          "data": {
            "text/plain": [
              "array([[ 2, 30, 20,  0,  0],\n",
              "       [-2,  4, 40,  0,  0],\n",
              "       [ 0,  4,  0, 90, 10],\n",
              "       [-2, -2, 34, 22, 12],\n",
              "       [-2, 24, 22, 32, -2]])"
            ]
          },
          "execution_count": 38,
          "metadata": {},
          "output_type": "execute_result"
        }
      ],
      "source": [
        "X[X<0] = 0\n",
        "X[X%2 == 1] = -2\n",
        "X"
      ]
    },
    {
      "cell_type": "markdown",
      "metadata": {
        "id": "SUTcATdP69qv"
      },
      "source": [
        "# TASK 6: UNDERSTAND PANDAS FUNDAMENTALS"
      ]
    },
    {
      "cell_type": "code",
      "execution_count": null,
      "metadata": {
        "execution": {
          "iopub.execute_input": "2023-01-16T20:22:27.723584Z",
          "iopub.status.busy": "2023-01-16T20:22:27.723349Z",
          "iopub.status.idle": "2023-01-16T20:22:27.730904Z",
          "shell.execute_reply": "2023-01-16T20:22:27.730143Z",
          "shell.execute_reply.started": "2023-01-16T20:22:27.723562Z"
        },
        "trusted": true,
        "id": "WgbaqoUx69qv"
      },
      "outputs": [],
      "source": [
        "# Pandas is a data manipulation and analysis tool that is built on Numpy.\n",
        "# Pandas uses a data structure known as DataFrame (think of it as Microsoft excel in Python).\n",
        "# DataFrames empower programmers to store and manipulate data in a tabular fashion (rows and columns).\n",
        "# Series Vs. DataFrame? Series is considered a single column of a DataFrame."
      ]
    },
    {
      "cell_type": "code",
      "execution_count": null,
      "metadata": {
        "execution": {
          "iopub.execute_input": "2023-01-16T20:22:27.732228Z",
          "iopub.status.busy": "2023-01-16T20:22:27.731857Z",
          "iopub.status.idle": "2023-01-16T20:22:27.740536Z",
          "shell.execute_reply": "2023-01-16T20:22:27.739722Z",
          "shell.execute_reply.started": "2023-01-16T20:22:27.732204Z"
        },
        "trusted": true,
        "id": "XLLZ9YLF69qv"
      },
      "outputs": [],
      "source": [
        "import pandas as pd"
      ]
    },
    {
      "cell_type": "code",
      "execution_count": null,
      "metadata": {
        "execution": {
          "iopub.execute_input": "2023-01-16T20:22:27.741864Z",
          "iopub.status.busy": "2023-01-16T20:22:27.741550Z",
          "iopub.status.idle": "2023-01-16T20:22:27.763368Z",
          "shell.execute_reply": "2023-01-16T20:22:27.762492Z",
          "shell.execute_reply.started": "2023-01-16T20:22:27.741835Z"
        },
        "trusted": true,
        "id": "ZMMqfVNq69qv",
        "outputId": "092f4136-3294-4a9e-fe45-fb11ba490ceb"
      },
      "outputs": [
        {
          "data": {
            "text/html": [
              "<div>\n",
              "<style scoped>\n",
              "    .dataframe tbody tr th:only-of-type {\n",
              "        vertical-align: middle;\n",
              "    }\n",
              "\n",
              "    .dataframe tbody tr th {\n",
              "        vertical-align: top;\n",
              "    }\n",
              "\n",
              "    .dataframe thead th {\n",
              "        text-align: right;\n",
              "    }\n",
              "</style>\n",
              "<table border=\"1\" class=\"dataframe\">\n",
              "  <thead>\n",
              "    <tr style=\"text-align: right;\">\n",
              "      <th></th>\n",
              "      <th>Bank Client ID</th>\n",
              "      <th>Bank Client Name</th>\n",
              "      <th>Net Worth</th>\n",
              "      <th>Years with Bank</th>\n",
              "    </tr>\n",
              "  </thead>\n",
              "  <tbody>\n",
              "    <tr>\n",
              "      <th>0</th>\n",
              "      <td>111</td>\n",
              "      <td>Chanel</td>\n",
              "      <td>3500</td>\n",
              "      <td>3</td>\n",
              "    </tr>\n",
              "    <tr>\n",
              "      <th>1</th>\n",
              "      <td>222</td>\n",
              "      <td>Steve</td>\n",
              "      <td>29000</td>\n",
              "      <td>4</td>\n",
              "    </tr>\n",
              "    <tr>\n",
              "      <th>2</th>\n",
              "      <td>333</td>\n",
              "      <td>Mitch</td>\n",
              "      <td>10000</td>\n",
              "      <td>9</td>\n",
              "    </tr>\n",
              "    <tr>\n",
              "      <th>3</th>\n",
              "      <td>444</td>\n",
              "      <td>Ryan</td>\n",
              "      <td>2000</td>\n",
              "      <td>5</td>\n",
              "    </tr>\n",
              "  </tbody>\n",
              "</table>\n",
              "</div>"
            ],
            "text/plain": [
              "   Bank Client ID Bank Client Name  Net Worth  Years with Bank\n",
              "0             111           Chanel       3500                3\n",
              "1             222            Steve      29000                4\n",
              "2             333            Mitch      10000                9\n",
              "3             444             Ryan       2000                5"
            ]
          },
          "execution_count": 41,
          "metadata": {},
          "output_type": "execute_result"
        }
      ],
      "source": [
        "# Let's define a two-dimensional Pandas DataFrame\n",
        "# Note that you can create a pandas dataframe from a python dictionary\n",
        "bank_client_df = pd.DataFrame({'Bank Client ID':[111,222,333,444],\n",
        "                               'Bank Client Name':['Chanel','Steve','Mitch','Ryan'],\n",
        "                              'Net Worth':[3500,29000,10000,2000],\n",
        "                              'Years with Bank':[3,4,9,5]})\n",
        "bank_client_df"
      ]
    },
    {
      "cell_type": "code",
      "execution_count": null,
      "metadata": {
        "execution": {
          "iopub.execute_input": "2023-01-16T20:22:27.764896Z",
          "iopub.status.busy": "2023-01-16T20:22:27.764595Z",
          "iopub.status.idle": "2023-01-16T20:22:27.771052Z",
          "shell.execute_reply": "2023-01-16T20:22:27.769829Z",
          "shell.execute_reply.started": "2023-01-16T20:22:27.764872Z"
        },
        "trusted": true,
        "id": "mDp-90g769qv",
        "outputId": "69f274ed-5b06-471a-cf2b-3d3319c52d5c"
      },
      "outputs": [
        {
          "data": {
            "text/plain": [
              "pandas.core.frame.DataFrame"
            ]
          },
          "execution_count": 42,
          "metadata": {},
          "output_type": "execute_result"
        }
      ],
      "source": [
        "# Let's obtain the data type\n",
        "type(bank_client_df)"
      ]
    },
    {
      "cell_type": "code",
      "execution_count": null,
      "metadata": {
        "execution": {
          "iopub.execute_input": "2023-01-16T20:22:27.772635Z",
          "iopub.status.busy": "2023-01-16T20:22:27.772368Z",
          "iopub.status.idle": "2023-01-16T20:22:27.787004Z",
          "shell.execute_reply": "2023-01-16T20:22:27.786264Z",
          "shell.execute_reply.started": "2023-01-16T20:22:27.772611Z"
        },
        "trusted": true,
        "id": "oa-IGhAL69qv",
        "outputId": "a699970f-0961-4d45-ed16-25f33225367c"
      },
      "outputs": [
        {
          "data": {
            "text/html": [
              "<div>\n",
              "<style scoped>\n",
              "    .dataframe tbody tr th:only-of-type {\n",
              "        vertical-align: middle;\n",
              "    }\n",
              "\n",
              "    .dataframe tbody tr th {\n",
              "        vertical-align: top;\n",
              "    }\n",
              "\n",
              "    .dataframe thead th {\n",
              "        text-align: right;\n",
              "    }\n",
              "</style>\n",
              "<table border=\"1\" class=\"dataframe\">\n",
              "  <thead>\n",
              "    <tr style=\"text-align: right;\">\n",
              "      <th></th>\n",
              "      <th>Bank Client ID</th>\n",
              "      <th>Bank Client Name</th>\n",
              "      <th>Net Worth</th>\n",
              "      <th>Years with Bank</th>\n",
              "    </tr>\n",
              "  </thead>\n",
              "  <tbody>\n",
              "    <tr>\n",
              "      <th>0</th>\n",
              "      <td>111</td>\n",
              "      <td>Chanel</td>\n",
              "      <td>3500</td>\n",
              "      <td>3</td>\n",
              "    </tr>\n",
              "    <tr>\n",
              "      <th>1</th>\n",
              "      <td>222</td>\n",
              "      <td>Steve</td>\n",
              "      <td>29000</td>\n",
              "      <td>4</td>\n",
              "    </tr>\n",
              "  </tbody>\n",
              "</table>\n",
              "</div>"
            ],
            "text/plain": [
              "   Bank Client ID Bank Client Name  Net Worth  Years with Bank\n",
              "0             111           Chanel       3500                3\n",
              "1             222            Steve      29000                4"
            ]
          },
          "execution_count": 43,
          "metadata": {},
          "output_type": "execute_result"
        }
      ],
      "source": [
        "# you can only view the first couple of rows using .head()\n",
        "bank_client_df.head(2)"
      ]
    },
    {
      "cell_type": "code",
      "execution_count": null,
      "metadata": {
        "execution": {
          "iopub.execute_input": "2023-01-16T20:22:27.792551Z",
          "iopub.status.busy": "2023-01-16T20:22:27.792172Z",
          "iopub.status.idle": "2023-01-16T20:22:27.800279Z",
          "shell.execute_reply": "2023-01-16T20:22:27.799592Z",
          "shell.execute_reply.started": "2023-01-16T20:22:27.792526Z"
        },
        "trusted": true,
        "id": "MVpJ7cEB69qv",
        "outputId": "d0902de6-f179-48dd-80d6-de5ff91f342b"
      },
      "outputs": [
        {
          "data": {
            "text/html": [
              "<div>\n",
              "<style scoped>\n",
              "    .dataframe tbody tr th:only-of-type {\n",
              "        vertical-align: middle;\n",
              "    }\n",
              "\n",
              "    .dataframe tbody tr th {\n",
              "        vertical-align: top;\n",
              "    }\n",
              "\n",
              "    .dataframe thead th {\n",
              "        text-align: right;\n",
              "    }\n",
              "</style>\n",
              "<table border=\"1\" class=\"dataframe\">\n",
              "  <thead>\n",
              "    <tr style=\"text-align: right;\">\n",
              "      <th></th>\n",
              "      <th>Bank Client ID</th>\n",
              "      <th>Bank Client Name</th>\n",
              "      <th>Net Worth</th>\n",
              "      <th>Years with Bank</th>\n",
              "    </tr>\n",
              "  </thead>\n",
              "  <tbody>\n",
              "    <tr>\n",
              "      <th>2</th>\n",
              "      <td>333</td>\n",
              "      <td>Mitch</td>\n",
              "      <td>10000</td>\n",
              "      <td>9</td>\n",
              "    </tr>\n",
              "    <tr>\n",
              "      <th>3</th>\n",
              "      <td>444</td>\n",
              "      <td>Ryan</td>\n",
              "      <td>2000</td>\n",
              "      <td>5</td>\n",
              "    </tr>\n",
              "  </tbody>\n",
              "</table>\n",
              "</div>"
            ],
            "text/plain": [
              "   Bank Client ID Bank Client Name  Net Worth  Years with Bank\n",
              "2             333            Mitch      10000                9\n",
              "3             444             Ryan       2000                5"
            ]
          },
          "execution_count": 44,
          "metadata": {},
          "output_type": "execute_result"
        }
      ],
      "source": [
        "# you can only view the last couple of rows using .tail()\n",
        "bank_client_df.tail(2)"
      ]
    },
    {
      "cell_type": "markdown",
      "metadata": {
        "id": "bLOOQUmM69qw"
      },
      "source": [
        "MINI CHALLENGE #6:\n",
        "- A portfolio contains a collection of securities such as stocks, bonds and ETFs. Define a dataframe named 'portfolio_df' that holds 3 different stock ticker symbols, number of shares, and price per share (feel free to choose any stocks)\n",
        "- Calculate the total value of the portfolio including all stocks"
      ]
    },
    {
      "cell_type": "code",
      "execution_count": null,
      "metadata": {
        "execution": {
          "iopub.execute_input": "2023-01-16T20:22:27.801719Z",
          "iopub.status.busy": "2023-01-16T20:22:27.801260Z",
          "iopub.status.idle": "2023-01-16T20:22:27.810996Z",
          "shell.execute_reply": "2023-01-16T20:22:27.809948Z",
          "shell.execute_reply.started": "2023-01-16T20:22:27.801695Z"
        },
        "trusted": true,
        "id": "9PqtBlsi69qw",
        "outputId": "a37bc4d0-a84a-4093-e0cf-e20d3ddb5c12"
      },
      "outputs": [
        {
          "data": {
            "text/html": [
              "<div>\n",
              "<style scoped>\n",
              "    .dataframe tbody tr th:only-of-type {\n",
              "        vertical-align: middle;\n",
              "    }\n",
              "\n",
              "    .dataframe tbody tr th {\n",
              "        vertical-align: top;\n",
              "    }\n",
              "\n",
              "    .dataframe thead th {\n",
              "        text-align: right;\n",
              "    }\n",
              "</style>\n",
              "<table border=\"1\" class=\"dataframe\">\n",
              "  <thead>\n",
              "    <tr style=\"text-align: right;\">\n",
              "      <th></th>\n",
              "      <th>stock ticker symbol</th>\n",
              "      <th>price per share [$]</th>\n",
              "      <th>number of stocks</th>\n",
              "    </tr>\n",
              "  </thead>\n",
              "  <tbody>\n",
              "    <tr>\n",
              "      <th>0</th>\n",
              "      <td>AAPL</td>\n",
              "      <td>3500</td>\n",
              "      <td>3</td>\n",
              "    </tr>\n",
              "    <tr>\n",
              "      <th>1</th>\n",
              "      <td>AMSE</td>\n",
              "      <td>200</td>\n",
              "      <td>4</td>\n",
              "    </tr>\n",
              "    <tr>\n",
              "      <th>2</th>\n",
              "      <td>RDRT</td>\n",
              "      <td>60</td>\n",
              "      <td>7</td>\n",
              "    </tr>\n",
              "  </tbody>\n",
              "</table>\n",
              "</div>"
            ],
            "text/plain": [
              "  stock ticker symbol  price per share [$]  number of stocks\n",
              "0                AAPL                 3500                 3\n",
              "1                AMSE                  200                 4\n",
              "2                RDRT                   60                 7"
            ]
          },
          "execution_count": 45,
          "metadata": {},
          "output_type": "execute_result"
        }
      ],
      "source": [
        "portfolio_df = pd.DataFrame({'stock ticker symbol':['AAPL','AMSE','RDRT'],\n",
        "                            'price per share [$]':[3500, 200, 60],\n",
        "                            'number of stocks':[3,4,7]})\n",
        "portfolio_df"
      ]
    },
    {
      "cell_type": "code",
      "execution_count": null,
      "metadata": {
        "execution": {
          "iopub.execute_input": "2023-01-16T20:22:27.813309Z",
          "iopub.status.busy": "2023-01-16T20:22:27.812731Z",
          "iopub.status.idle": "2023-01-16T20:22:27.821727Z",
          "shell.execute_reply": "2023-01-16T20:22:27.820731Z",
          "shell.execute_reply.started": "2023-01-16T20:22:27.813285Z"
        },
        "trusted": true,
        "id": "xp4RCOGt69qw",
        "outputId": "418636fb-38aa-4ac3-a2e3-12d6fd2c52cd"
      },
      "outputs": [
        {
          "data": {
            "text/plain": [
              "0    10500\n",
              "1      800\n",
              "2      420\n",
              "dtype: int64"
            ]
          },
          "execution_count": 46,
          "metadata": {},
          "output_type": "execute_result"
        }
      ],
      "source": [
        "stocks_dollar_value = portfolio_df['price per share [$]'] * portfolio_df['number of stocks']\n",
        "stocks_dollar_value"
      ]
    },
    {
      "cell_type": "code",
      "execution_count": null,
      "metadata": {
        "execution": {
          "iopub.execute_input": "2023-01-16T20:22:27.823250Z",
          "iopub.status.busy": "2023-01-16T20:22:27.822785Z",
          "iopub.status.idle": "2023-01-16T20:22:27.830454Z",
          "shell.execute_reply": "2023-01-16T20:22:27.829377Z",
          "shell.execute_reply.started": "2023-01-16T20:22:27.823226Z"
        },
        "trusted": true,
        "id": "Z_qP9UL-69qw",
        "outputId": "f310f413-0498-41f7-ddd4-acd3651a4af2"
      },
      "outputs": [
        {
          "data": {
            "text/plain": [
              "np.int64(11720)"
            ]
          },
          "execution_count": 47,
          "metadata": {},
          "output_type": "execute_result"
        }
      ],
      "source": [
        "stocks_dollar_value.sum()"
      ]
    },
    {
      "cell_type": "markdown",
      "metadata": {
        "id": "INDpd8Lb69qw"
      },
      "source": [
        "# TASK 7: PANDAS WITH CSV/HTML DATA"
      ]
    },
    {
      "cell_type": "code",
      "execution_count": null,
      "metadata": {
        "execution": {
          "iopub.execute_input": "2023-01-16T20:22:27.832322Z",
          "iopub.status.busy": "2023-01-16T20:22:27.831542Z",
          "iopub.status.idle": "2023-01-16T20:22:27.838036Z",
          "shell.execute_reply": "2023-01-16T20:22:27.837135Z",
          "shell.execute_reply.started": "2023-01-16T20:22:27.832298Z"
        },
        "trusted": true,
        "id": "P3rOxeFn69qw"
      },
      "outputs": [],
      "source": [
        "# Pandas is used to read a  file and store data in a DataFrame"
      ]
    },
    {
      "cell_type": "markdown",
      "metadata": {
        "id": "3yJzNFpK69qw"
      },
      "source": [
        "MINI CHALLENGE #7:\n",
        "- Write a code that uses Pandas to read tabular US retirement data\n",
        "- You can use data from here: https://www.ssa.gov/oact/progdata/nra.html"
      ]
    },
    {
      "cell_type": "code",
      "execution_count": null,
      "metadata": {
        "execution": {
          "iopub.execute_input": "2023-01-16T20:22:27.839611Z",
          "iopub.status.busy": "2023-01-16T20:22:27.839229Z",
          "iopub.status.idle": "2023-01-16T20:22:28.163270Z",
          "shell.execute_reply": "2023-01-16T20:22:28.162292Z",
          "shell.execute_reply.started": "2023-01-16T20:22:27.839588Z"
        },
        "trusted": true,
        "id": "uF8Hor7b69qw",
        "outputId": "0f7b3706-3f17-4103-e01d-2a9fe6057942"
      },
      "outputs": [
        {
          "ename": "ImportError",
          "evalue": "Missing optional dependency 'lxml'.  Use pip or conda to install lxml.",
          "output_type": "error",
          "traceback": [
            "\u001b[1;31m---------------------------------------------------------------------------\u001b[0m",
            "\u001b[1;31mModuleNotFoundError\u001b[0m                       Traceback (most recent call last)",
            "File \u001b[1;32mc:\\Users\\hp\\miniconda3\\envs\\basics\\lib\\site-packages\\pandas\\compat\\_optional.py:135\u001b[0m, in \u001b[0;36mimport_optional_dependency\u001b[1;34m(name, extra, errors, min_version)\u001b[0m\n\u001b[0;32m    134\u001b[0m \u001b[38;5;28;01mtry\u001b[39;00m:\n\u001b[1;32m--> 135\u001b[0m     module \u001b[38;5;241m=\u001b[39m \u001b[43mimportlib\u001b[49m\u001b[38;5;241;43m.\u001b[39;49m\u001b[43mimport_module\u001b[49m\u001b[43m(\u001b[49m\u001b[43mname\u001b[49m\u001b[43m)\u001b[49m\n\u001b[0;32m    136\u001b[0m \u001b[38;5;28;01mexcept\u001b[39;00m \u001b[38;5;167;01mImportError\u001b[39;00m:\n",
            "File \u001b[1;32mc:\\Users\\hp\\miniconda3\\envs\\basics\\lib\\importlib\\__init__.py:126\u001b[0m, in \u001b[0;36mimport_module\u001b[1;34m(name, package)\u001b[0m\n\u001b[0;32m    125\u001b[0m         level \u001b[38;5;241m+\u001b[39m\u001b[38;5;241m=\u001b[39m \u001b[38;5;241m1\u001b[39m\n\u001b[1;32m--> 126\u001b[0m \u001b[38;5;28;01mreturn\u001b[39;00m \u001b[43m_bootstrap\u001b[49m\u001b[38;5;241;43m.\u001b[39;49m\u001b[43m_gcd_import\u001b[49m\u001b[43m(\u001b[49m\u001b[43mname\u001b[49m\u001b[43m[\u001b[49m\u001b[43mlevel\u001b[49m\u001b[43m:\u001b[49m\u001b[43m]\u001b[49m\u001b[43m,\u001b[49m\u001b[43m \u001b[49m\u001b[43mpackage\u001b[49m\u001b[43m,\u001b[49m\u001b[43m \u001b[49m\u001b[43mlevel\u001b[49m\u001b[43m)\u001b[49m\n",
            "File \u001b[1;32m<frozen importlib._bootstrap>:1050\u001b[0m, in \u001b[0;36m_gcd_import\u001b[1;34m(name, package, level)\u001b[0m\n",
            "File \u001b[1;32m<frozen importlib._bootstrap>:1027\u001b[0m, in \u001b[0;36m_find_and_load\u001b[1;34m(name, import_)\u001b[0m\n",
            "File \u001b[1;32m<frozen importlib._bootstrap>:992\u001b[0m, in \u001b[0;36m_find_and_load_unlocked\u001b[1;34m(name, import_)\u001b[0m\n",
            "File \u001b[1;32m<frozen importlib._bootstrap>:241\u001b[0m, in \u001b[0;36m_call_with_frames_removed\u001b[1;34m(f, *args, **kwds)\u001b[0m\n",
            "File \u001b[1;32m<frozen importlib._bootstrap>:1050\u001b[0m, in \u001b[0;36m_gcd_import\u001b[1;34m(name, package, level)\u001b[0m\n",
            "File \u001b[1;32m<frozen importlib._bootstrap>:1027\u001b[0m, in \u001b[0;36m_find_and_load\u001b[1;34m(name, import_)\u001b[0m\n",
            "File \u001b[1;32m<frozen importlib._bootstrap>:1004\u001b[0m, in \u001b[0;36m_find_and_load_unlocked\u001b[1;34m(name, import_)\u001b[0m\n",
            "\u001b[1;31mModuleNotFoundError\u001b[0m: No module named 'lxml'",
            "\nDuring handling of the above exception, another exception occurred:\n",
            "\u001b[1;31mImportError\u001b[0m                               Traceback (most recent call last)",
            "Cell \u001b[1;32mIn[49], line 2\u001b[0m\n\u001b[0;32m      1\u001b[0m \u001b[38;5;28;01mimport\u001b[39;00m \u001b[38;5;21;01mpandas\u001b[39;00m \u001b[38;5;28;01mas\u001b[39;00m \u001b[38;5;21;01mpd\u001b[39;00m\n\u001b[1;32m----> 2\u001b[0m us_df \u001b[38;5;241m=\u001b[39m \u001b[43mpd\u001b[49m\u001b[38;5;241;43m.\u001b[39;49m\u001b[43mread_html\u001b[49m\u001b[43m(\u001b[49m\u001b[38;5;124;43m'\u001b[39;49m\u001b[38;5;124;43mhttps://www.ssa.gov/oact/progdata/nra.html\u001b[39;49m\u001b[38;5;124;43m'\u001b[39;49m\u001b[43m)\u001b[49m\n\u001b[0;32m      3\u001b[0m us_df\n",
            "File \u001b[1;32mc:\\Users\\hp\\miniconda3\\envs\\basics\\lib\\site-packages\\pandas\\io\\html.py:1240\u001b[0m, in \u001b[0;36mread_html\u001b[1;34m(io, match, flavor, header, index_col, skiprows, attrs, parse_dates, thousands, encoding, decimal, converters, na_values, keep_default_na, displayed_only, extract_links, dtype_backend, storage_options)\u001b[0m\n\u001b[0;32m   1224\u001b[0m \u001b[38;5;28;01mif\u001b[39;00m \u001b[38;5;28misinstance\u001b[39m(io, \u001b[38;5;28mstr\u001b[39m) \u001b[38;5;129;01mand\u001b[39;00m \u001b[38;5;129;01mnot\u001b[39;00m \u001b[38;5;28many\u001b[39m(\n\u001b[0;32m   1225\u001b[0m     [\n\u001b[0;32m   1226\u001b[0m         is_file_like(io),\n\u001b[1;32m   (...)\u001b[0m\n\u001b[0;32m   1230\u001b[0m     ]\n\u001b[0;32m   1231\u001b[0m ):\n\u001b[0;32m   1232\u001b[0m     warnings\u001b[38;5;241m.\u001b[39mwarn(\n\u001b[0;32m   1233\u001b[0m         \u001b[38;5;124m\"\u001b[39m\u001b[38;5;124mPassing literal html to \u001b[39m\u001b[38;5;124m'\u001b[39m\u001b[38;5;124mread_html\u001b[39m\u001b[38;5;124m'\u001b[39m\u001b[38;5;124m is deprecated and \u001b[39m\u001b[38;5;124m\"\u001b[39m\n\u001b[0;32m   1234\u001b[0m         \u001b[38;5;124m\"\u001b[39m\u001b[38;5;124mwill be removed in a future version. To read from a \u001b[39m\u001b[38;5;124m\"\u001b[39m\n\u001b[1;32m   (...)\u001b[0m\n\u001b[0;32m   1237\u001b[0m         stacklevel\u001b[38;5;241m=\u001b[39mfind_stack_level(),\n\u001b[0;32m   1238\u001b[0m     )\n\u001b[1;32m-> 1240\u001b[0m \u001b[38;5;28;01mreturn\u001b[39;00m \u001b[43m_parse\u001b[49m\u001b[43m(\u001b[49m\n\u001b[0;32m   1241\u001b[0m \u001b[43m    \u001b[49m\u001b[43mflavor\u001b[49m\u001b[38;5;241;43m=\u001b[39;49m\u001b[43mflavor\u001b[49m\u001b[43m,\u001b[49m\n\u001b[0;32m   1242\u001b[0m \u001b[43m    \u001b[49m\u001b[43mio\u001b[49m\u001b[38;5;241;43m=\u001b[39;49m\u001b[43mio\u001b[49m\u001b[43m,\u001b[49m\n\u001b[0;32m   1243\u001b[0m \u001b[43m    \u001b[49m\u001b[43mmatch\u001b[49m\u001b[38;5;241;43m=\u001b[39;49m\u001b[43mmatch\u001b[49m\u001b[43m,\u001b[49m\n\u001b[0;32m   1244\u001b[0m \u001b[43m    \u001b[49m\u001b[43mheader\u001b[49m\u001b[38;5;241;43m=\u001b[39;49m\u001b[43mheader\u001b[49m\u001b[43m,\u001b[49m\n\u001b[0;32m   1245\u001b[0m \u001b[43m    \u001b[49m\u001b[43mindex_col\u001b[49m\u001b[38;5;241;43m=\u001b[39;49m\u001b[43mindex_col\u001b[49m\u001b[43m,\u001b[49m\n\u001b[0;32m   1246\u001b[0m \u001b[43m    \u001b[49m\u001b[43mskiprows\u001b[49m\u001b[38;5;241;43m=\u001b[39;49m\u001b[43mskiprows\u001b[49m\u001b[43m,\u001b[49m\n\u001b[0;32m   1247\u001b[0m \u001b[43m    \u001b[49m\u001b[43mparse_dates\u001b[49m\u001b[38;5;241;43m=\u001b[39;49m\u001b[43mparse_dates\u001b[49m\u001b[43m,\u001b[49m\n\u001b[0;32m   1248\u001b[0m \u001b[43m    \u001b[49m\u001b[43mthousands\u001b[49m\u001b[38;5;241;43m=\u001b[39;49m\u001b[43mthousands\u001b[49m\u001b[43m,\u001b[49m\n\u001b[0;32m   1249\u001b[0m \u001b[43m    \u001b[49m\u001b[43mattrs\u001b[49m\u001b[38;5;241;43m=\u001b[39;49m\u001b[43mattrs\u001b[49m\u001b[43m,\u001b[49m\n\u001b[0;32m   1250\u001b[0m \u001b[43m    \u001b[49m\u001b[43mencoding\u001b[49m\u001b[38;5;241;43m=\u001b[39;49m\u001b[43mencoding\u001b[49m\u001b[43m,\u001b[49m\n\u001b[0;32m   1251\u001b[0m \u001b[43m    \u001b[49m\u001b[43mdecimal\u001b[49m\u001b[38;5;241;43m=\u001b[39;49m\u001b[43mdecimal\u001b[49m\u001b[43m,\u001b[49m\n\u001b[0;32m   1252\u001b[0m \u001b[43m    \u001b[49m\u001b[43mconverters\u001b[49m\u001b[38;5;241;43m=\u001b[39;49m\u001b[43mconverters\u001b[49m\u001b[43m,\u001b[49m\n\u001b[0;32m   1253\u001b[0m \u001b[43m    \u001b[49m\u001b[43mna_values\u001b[49m\u001b[38;5;241;43m=\u001b[39;49m\u001b[43mna_values\u001b[49m\u001b[43m,\u001b[49m\n\u001b[0;32m   1254\u001b[0m \u001b[43m    \u001b[49m\u001b[43mkeep_default_na\u001b[49m\u001b[38;5;241;43m=\u001b[39;49m\u001b[43mkeep_default_na\u001b[49m\u001b[43m,\u001b[49m\n\u001b[0;32m   1255\u001b[0m \u001b[43m    \u001b[49m\u001b[43mdisplayed_only\u001b[49m\u001b[38;5;241;43m=\u001b[39;49m\u001b[43mdisplayed_only\u001b[49m\u001b[43m,\u001b[49m\n\u001b[0;32m   1256\u001b[0m \u001b[43m    \u001b[49m\u001b[43mextract_links\u001b[49m\u001b[38;5;241;43m=\u001b[39;49m\u001b[43mextract_links\u001b[49m\u001b[43m,\u001b[49m\n\u001b[0;32m   1257\u001b[0m \u001b[43m    \u001b[49m\u001b[43mdtype_backend\u001b[49m\u001b[38;5;241;43m=\u001b[39;49m\u001b[43mdtype_backend\u001b[49m\u001b[43m,\u001b[49m\n\u001b[0;32m   1258\u001b[0m \u001b[43m    \u001b[49m\u001b[43mstorage_options\u001b[49m\u001b[38;5;241;43m=\u001b[39;49m\u001b[43mstorage_options\u001b[49m\u001b[43m,\u001b[49m\n\u001b[0;32m   1259\u001b[0m \u001b[43m\u001b[49m\u001b[43m)\u001b[49m\n",
            "File \u001b[1;32mc:\\Users\\hp\\miniconda3\\envs\\basics\\lib\\site-packages\\pandas\\io\\html.py:971\u001b[0m, in \u001b[0;36m_parse\u001b[1;34m(flavor, io, match, attrs, encoding, displayed_only, extract_links, storage_options, **kwargs)\u001b[0m\n\u001b[0;32m    969\u001b[0m retained \u001b[38;5;241m=\u001b[39m \u001b[38;5;28;01mNone\u001b[39;00m\n\u001b[0;32m    970\u001b[0m \u001b[38;5;28;01mfor\u001b[39;00m flav \u001b[38;5;129;01min\u001b[39;00m flavor:\n\u001b[1;32m--> 971\u001b[0m     parser \u001b[38;5;241m=\u001b[39m \u001b[43m_parser_dispatch\u001b[49m\u001b[43m(\u001b[49m\u001b[43mflav\u001b[49m\u001b[43m)\u001b[49m\n\u001b[0;32m    972\u001b[0m     p \u001b[38;5;241m=\u001b[39m parser(\n\u001b[0;32m    973\u001b[0m         io,\n\u001b[0;32m    974\u001b[0m         compiled_match,\n\u001b[1;32m   (...)\u001b[0m\n\u001b[0;32m    979\u001b[0m         storage_options,\n\u001b[0;32m    980\u001b[0m     )\n\u001b[0;32m    982\u001b[0m     \u001b[38;5;28;01mtry\u001b[39;00m:\n",
            "File \u001b[1;32mc:\\Users\\hp\\miniconda3\\envs\\basics\\lib\\site-packages\\pandas\\io\\html.py:918\u001b[0m, in \u001b[0;36m_parser_dispatch\u001b[1;34m(flavor)\u001b[0m\n\u001b[0;32m    916\u001b[0m     import_optional_dependency(\u001b[38;5;124m\"\u001b[39m\u001b[38;5;124mbs4\u001b[39m\u001b[38;5;124m\"\u001b[39m)\n\u001b[0;32m    917\u001b[0m \u001b[38;5;28;01melse\u001b[39;00m:\n\u001b[1;32m--> 918\u001b[0m     \u001b[43mimport_optional_dependency\u001b[49m\u001b[43m(\u001b[49m\u001b[38;5;124;43m\"\u001b[39;49m\u001b[38;5;124;43mlxml.etree\u001b[39;49m\u001b[38;5;124;43m\"\u001b[39;49m\u001b[43m)\u001b[49m\n\u001b[0;32m    919\u001b[0m \u001b[38;5;28;01mreturn\u001b[39;00m _valid_parsers[flavor]\n",
            "File \u001b[1;32mc:\\Users\\hp\\miniconda3\\envs\\basics\\lib\\site-packages\\pandas\\compat\\_optional.py:138\u001b[0m, in \u001b[0;36mimport_optional_dependency\u001b[1;34m(name, extra, errors, min_version)\u001b[0m\n\u001b[0;32m    136\u001b[0m \u001b[38;5;28;01mexcept\u001b[39;00m \u001b[38;5;167;01mImportError\u001b[39;00m:\n\u001b[0;32m    137\u001b[0m     \u001b[38;5;28;01mif\u001b[39;00m errors \u001b[38;5;241m==\u001b[39m \u001b[38;5;124m\"\u001b[39m\u001b[38;5;124mraise\u001b[39m\u001b[38;5;124m\"\u001b[39m:\n\u001b[1;32m--> 138\u001b[0m         \u001b[38;5;28;01mraise\u001b[39;00m \u001b[38;5;167;01mImportError\u001b[39;00m(msg)\n\u001b[0;32m    139\u001b[0m     \u001b[38;5;28;01mreturn\u001b[39;00m \u001b[38;5;28;01mNone\u001b[39;00m\n\u001b[0;32m    141\u001b[0m \u001b[38;5;66;03m# Handle submodules: if we have submodule, grab parent module from sys.modules\u001b[39;00m\n",
            "\u001b[1;31mImportError\u001b[0m: Missing optional dependency 'lxml'.  Use pip or conda to install lxml."
          ]
        }
      ],
      "source": [
        "import pandas as pd\n",
        "us_df = pd.read_html('https://www.ssa.gov/oact/progdata/nra.html')\n",
        "us_df"
      ]
    },
    {
      "cell_type": "markdown",
      "metadata": {
        "id": "sYBWxdE469qx"
      },
      "source": [
        "# TASK 8: PANDAS OPERATIONS"
      ]
    },
    {
      "cell_type": "code",
      "execution_count": null,
      "metadata": {
        "execution": {
          "iopub.execute_input": "2023-01-16T20:22:28.165045Z",
          "iopub.status.busy": "2023-01-16T20:22:28.164395Z",
          "iopub.status.idle": "2023-01-16T20:22:28.178029Z",
          "shell.execute_reply": "2023-01-16T20:22:28.177146Z",
          "shell.execute_reply.started": "2023-01-16T20:22:28.165013Z"
        },
        "trusted": true,
        "id": "lddv54Ei69qx",
        "outputId": "026a0010-12b6-48b0-d693-10f5ddde6aff"
      },
      "outputs": [
        {
          "data": {
            "text/html": [
              "<div>\n",
              "<style scoped>\n",
              "    .dataframe tbody tr th:only-of-type {\n",
              "        vertical-align: middle;\n",
              "    }\n",
              "\n",
              "    .dataframe tbody tr th {\n",
              "        vertical-align: top;\n",
              "    }\n",
              "\n",
              "    .dataframe thead th {\n",
              "        text-align: right;\n",
              "    }\n",
              "</style>\n",
              "<table border=\"1\" class=\"dataframe\">\n",
              "  <thead>\n",
              "    <tr style=\"text-align: right;\">\n",
              "      <th></th>\n",
              "      <th>Bank Client ID</th>\n",
              "      <th>Bank Client Name</th>\n",
              "      <th>Net Worth</th>\n",
              "      <th>Years with Bank</th>\n",
              "    </tr>\n",
              "  </thead>\n",
              "  <tbody>\n",
              "    <tr>\n",
              "      <th>0</th>\n",
              "      <td>111</td>\n",
              "      <td>Chanel</td>\n",
              "      <td>3500</td>\n",
              "      <td>3</td>\n",
              "    </tr>\n",
              "    <tr>\n",
              "      <th>1</th>\n",
              "      <td>222</td>\n",
              "      <td>Steve</td>\n",
              "      <td>29000</td>\n",
              "      <td>4</td>\n",
              "    </tr>\n",
              "    <tr>\n",
              "      <th>2</th>\n",
              "      <td>333</td>\n",
              "      <td>Mitch</td>\n",
              "      <td>10000</td>\n",
              "      <td>9</td>\n",
              "    </tr>\n",
              "    <tr>\n",
              "      <th>3</th>\n",
              "      <td>444</td>\n",
              "      <td>Ryan</td>\n",
              "      <td>2000</td>\n",
              "      <td>5</td>\n",
              "    </tr>\n",
              "  </tbody>\n",
              "</table>\n",
              "</div>"
            ],
            "text/plain": [
              "   Bank Client ID Bank Client Name  Net Worth  Years with Bank\n",
              "0             111           Chanel       3500                3\n",
              "1             222            Steve      29000                4\n",
              "2             333            Mitch      10000                9\n",
              "3             444             Ryan       2000                5"
            ]
          },
          "execution_count": 50,
          "metadata": {},
          "output_type": "execute_result"
        }
      ],
      "source": [
        "# Let's define a dataframe as follows:\n",
        "bank_client_df = pd.DataFrame({'Bank Client ID':[111,222,333,444],\n",
        "                               'Bank Client Name':['Chanel','Steve','Mitch','Ryan'],\n",
        "                              'Net Worth':[3500,29000,10000,2000],\n",
        "                              'Years with Bank':[3,4,9,5]})\n",
        "bank_client_df"
      ]
    },
    {
      "cell_type": "code",
      "execution_count": null,
      "metadata": {
        "execution": {
          "iopub.execute_input": "2023-01-16T20:22:28.180405Z",
          "iopub.status.busy": "2023-01-16T20:22:28.179713Z",
          "iopub.status.idle": "2023-01-16T20:22:28.198371Z",
          "shell.execute_reply": "2023-01-16T20:22:28.196887Z",
          "shell.execute_reply.started": "2023-01-16T20:22:28.180371Z"
        },
        "trusted": true,
        "id": "rgos_0UP69qx",
        "outputId": "ca14908f-63b7-4c4c-867c-dc80d192192b"
      },
      "outputs": [
        {
          "data": {
            "text/html": [
              "<div>\n",
              "<style scoped>\n",
              "    .dataframe tbody tr th:only-of-type {\n",
              "        vertical-align: middle;\n",
              "    }\n",
              "\n",
              "    .dataframe tbody tr th {\n",
              "        vertical-align: top;\n",
              "    }\n",
              "\n",
              "    .dataframe thead th {\n",
              "        text-align: right;\n",
              "    }\n",
              "</style>\n",
              "<table border=\"1\" class=\"dataframe\">\n",
              "  <thead>\n",
              "    <tr style=\"text-align: right;\">\n",
              "      <th></th>\n",
              "      <th>Bank Client ID</th>\n",
              "      <th>Bank Client Name</th>\n",
              "      <th>Net Worth</th>\n",
              "      <th>Years with Bank</th>\n",
              "    </tr>\n",
              "  </thead>\n",
              "  <tbody>\n",
              "    <tr>\n",
              "      <th>2</th>\n",
              "      <td>333</td>\n",
              "      <td>Mitch</td>\n",
              "      <td>10000</td>\n",
              "      <td>9</td>\n",
              "    </tr>\n",
              "    <tr>\n",
              "      <th>3</th>\n",
              "      <td>444</td>\n",
              "      <td>Ryan</td>\n",
              "      <td>2000</td>\n",
              "      <td>5</td>\n",
              "    </tr>\n",
              "  </tbody>\n",
              "</table>\n",
              "</div>"
            ],
            "text/plain": [
              "   Bank Client ID Bank Client Name  Net Worth  Years with Bank\n",
              "2             333            Mitch      10000                9\n",
              "3             444             Ryan       2000                5"
            ]
          },
          "execution_count": 51,
          "metadata": {},
          "output_type": "execute_result"
        }
      ],
      "source": [
        "# Pick certain rows that satisfy a certain criteria\n",
        "df_loyal = bank_client_df[bank_client_df['Years with Bank']>=5]\n",
        "df_loyal"
      ]
    },
    {
      "cell_type": "code",
      "execution_count": null,
      "metadata": {
        "execution": {
          "iopub.execute_input": "2023-01-16T20:22:28.200525Z",
          "iopub.status.busy": "2023-01-16T20:22:28.200163Z",
          "iopub.status.idle": "2023-01-16T20:22:28.212828Z",
          "shell.execute_reply": "2023-01-16T20:22:28.211988Z",
          "shell.execute_reply.started": "2023-01-16T20:22:28.200494Z"
        },
        "trusted": true,
        "id": "IM7s0TzZ69qx",
        "outputId": "a6aa978e-b2cc-4ea9-e980-dcc6548ddd0b"
      },
      "outputs": [
        {
          "data": {
            "text/html": [
              "<div>\n",
              "<style scoped>\n",
              "    .dataframe tbody tr th:only-of-type {\n",
              "        vertical-align: middle;\n",
              "    }\n",
              "\n",
              "    .dataframe tbody tr th {\n",
              "        vertical-align: top;\n",
              "    }\n",
              "\n",
              "    .dataframe thead th {\n",
              "        text-align: right;\n",
              "    }\n",
              "</style>\n",
              "<table border=\"1\" class=\"dataframe\">\n",
              "  <thead>\n",
              "    <tr style=\"text-align: right;\">\n",
              "      <th></th>\n",
              "      <th>Bank Client Name</th>\n",
              "      <th>Net Worth</th>\n",
              "      <th>Years with Bank</th>\n",
              "    </tr>\n",
              "  </thead>\n",
              "  <tbody>\n",
              "    <tr>\n",
              "      <th>0</th>\n",
              "      <td>Chanel</td>\n",
              "      <td>3500</td>\n",
              "      <td>3</td>\n",
              "    </tr>\n",
              "    <tr>\n",
              "      <th>1</th>\n",
              "      <td>Steve</td>\n",
              "      <td>29000</td>\n",
              "      <td>4</td>\n",
              "    </tr>\n",
              "    <tr>\n",
              "      <th>2</th>\n",
              "      <td>Mitch</td>\n",
              "      <td>10000</td>\n",
              "      <td>9</td>\n",
              "    </tr>\n",
              "    <tr>\n",
              "      <th>3</th>\n",
              "      <td>Ryan</td>\n",
              "      <td>2000</td>\n",
              "      <td>5</td>\n",
              "    </tr>\n",
              "  </tbody>\n",
              "</table>\n",
              "</div>"
            ],
            "text/plain": [
              "  Bank Client Name  Net Worth  Years with Bank\n",
              "0           Chanel       3500                3\n",
              "1            Steve      29000                4\n",
              "2            Mitch      10000                9\n",
              "3             Ryan       2000                5"
            ]
          },
          "execution_count": 52,
          "metadata": {},
          "output_type": "execute_result"
        }
      ],
      "source": [
        "# Delete a column from a DataFrame\n",
        "del bank_client_df['Bank Client ID']\n",
        "bank_client_df"
      ]
    },
    {
      "cell_type": "markdown",
      "metadata": {
        "id": "Tax8oFBG69qx"
      },
      "source": [
        "MINI CHALLENGE #8:\n",
        "- Using \"bank_client_df\" DataFrame, leverage pandas operations to only select high networth individuals with minimum $5000\n",
        "- What is the combined networth for all customers with 5000+ networth?"
      ]
    },
    {
      "cell_type": "code",
      "execution_count": null,
      "metadata": {
        "execution": {
          "iopub.execute_input": "2023-01-16T20:22:28.214112Z",
          "iopub.status.busy": "2023-01-16T20:22:28.213691Z",
          "iopub.status.idle": "2023-01-16T20:22:28.230679Z",
          "shell.execute_reply": "2023-01-16T20:22:28.229567Z",
          "shell.execute_reply.started": "2023-01-16T20:22:28.214088Z"
        },
        "trusted": true,
        "id": "IizwHISE69qx",
        "outputId": "5d33a2ec-4f33-40f9-854c-cf1d81087966"
      },
      "outputs": [
        {
          "data": {
            "text/html": [
              "<div>\n",
              "<style scoped>\n",
              "    .dataframe tbody tr th:only-of-type {\n",
              "        vertical-align: middle;\n",
              "    }\n",
              "\n",
              "    .dataframe tbody tr th {\n",
              "        vertical-align: top;\n",
              "    }\n",
              "\n",
              "    .dataframe thead th {\n",
              "        text-align: right;\n",
              "    }\n",
              "</style>\n",
              "<table border=\"1\" class=\"dataframe\">\n",
              "  <thead>\n",
              "    <tr style=\"text-align: right;\">\n",
              "      <th></th>\n",
              "      <th>Bank Client Name</th>\n",
              "      <th>Net Worth</th>\n",
              "      <th>Years with Bank</th>\n",
              "    </tr>\n",
              "  </thead>\n",
              "  <tbody>\n",
              "    <tr>\n",
              "      <th>1</th>\n",
              "      <td>Steve</td>\n",
              "      <td>29000</td>\n",
              "      <td>4</td>\n",
              "    </tr>\n",
              "    <tr>\n",
              "      <th>2</th>\n",
              "      <td>Mitch</td>\n",
              "      <td>10000</td>\n",
              "      <td>9</td>\n",
              "    </tr>\n",
              "  </tbody>\n",
              "</table>\n",
              "</div>"
            ],
            "text/plain": [
              "  Bank Client Name  Net Worth  Years with Bank\n",
              "1            Steve      29000                4\n",
              "2            Mitch      10000                9"
            ]
          },
          "execution_count": 53,
          "metadata": {},
          "output_type": "execute_result"
        }
      ],
      "source": [
        "high_networth_df = bank_client_df[bank_client_df['Net Worth']>=5000]\n",
        "high_networth_df"
      ]
    },
    {
      "cell_type": "code",
      "execution_count": null,
      "metadata": {
        "execution": {
          "iopub.execute_input": "2023-01-16T20:22:28.232228Z",
          "iopub.status.busy": "2023-01-16T20:22:28.231986Z",
          "iopub.status.idle": "2023-01-16T20:22:28.240705Z",
          "shell.execute_reply": "2023-01-16T20:22:28.239951Z",
          "shell.execute_reply.started": "2023-01-16T20:22:28.232205Z"
        },
        "trusted": true,
        "id": "usmnlx1069qx",
        "outputId": "2e852b95-cb5d-4ece-b6c7-7c63aab7edb0"
      },
      "outputs": [
        {
          "data": {
            "text/plain": [
              "np.int64(44500)"
            ]
          },
          "execution_count": 54,
          "metadata": {},
          "output_type": "execute_result"
        }
      ],
      "source": [
        "bank_client_df['Net Worth'].sum()"
      ]
    },
    {
      "cell_type": "markdown",
      "metadata": {
        "id": "VhhMJyoT69qx"
      },
      "source": [
        "# TASK 9: PANDAS WITH FUNCTIONS"
      ]
    },
    {
      "cell_type": "code",
      "execution_count": null,
      "metadata": {
        "execution": {
          "iopub.execute_input": "2023-01-16T20:22:28.244227Z",
          "iopub.status.busy": "2023-01-16T20:22:28.243903Z",
          "iopub.status.idle": "2023-01-16T20:22:28.256607Z",
          "shell.execute_reply": "2023-01-16T20:22:28.255814Z",
          "shell.execute_reply.started": "2023-01-16T20:22:28.244176Z"
        },
        "trusted": true,
        "id": "VJ0tFXnC69qx",
        "outputId": "ece61c28-e37d-4700-d97e-fbb214070b7d"
      },
      "outputs": [
        {
          "data": {
            "text/html": [
              "<div>\n",
              "<style scoped>\n",
              "    .dataframe tbody tr th:only-of-type {\n",
              "        vertical-align: middle;\n",
              "    }\n",
              "\n",
              "    .dataframe tbody tr th {\n",
              "        vertical-align: top;\n",
              "    }\n",
              "\n",
              "    .dataframe thead th {\n",
              "        text-align: right;\n",
              "    }\n",
              "</style>\n",
              "<table border=\"1\" class=\"dataframe\">\n",
              "  <thead>\n",
              "    <tr style=\"text-align: right;\">\n",
              "      <th></th>\n",
              "      <th>Bank client ID</th>\n",
              "      <th>Bank Client Name</th>\n",
              "      <th>Net worth [$]</th>\n",
              "      <th>Years with bank</th>\n",
              "    </tr>\n",
              "  </thead>\n",
              "  <tbody>\n",
              "    <tr>\n",
              "      <th>0</th>\n",
              "      <td>111</td>\n",
              "      <td>Chanel</td>\n",
              "      <td>3500</td>\n",
              "      <td>3</td>\n",
              "    </tr>\n",
              "    <tr>\n",
              "      <th>1</th>\n",
              "      <td>222</td>\n",
              "      <td>Steve</td>\n",
              "      <td>29000</td>\n",
              "      <td>4</td>\n",
              "    </tr>\n",
              "    <tr>\n",
              "      <th>2</th>\n",
              "      <td>333</td>\n",
              "      <td>Mitch</td>\n",
              "      <td>10000</td>\n",
              "      <td>9</td>\n",
              "    </tr>\n",
              "    <tr>\n",
              "      <th>3</th>\n",
              "      <td>444</td>\n",
              "      <td>Ryan</td>\n",
              "      <td>2000</td>\n",
              "      <td>5</td>\n",
              "    </tr>\n",
              "  </tbody>\n",
              "</table>\n",
              "</div>"
            ],
            "text/plain": [
              "   Bank client ID Bank Client Name  Net worth [$]  Years with bank\n",
              "0             111           Chanel           3500                3\n",
              "1             222            Steve          29000                4\n",
              "2             333            Mitch          10000                9\n",
              "3             444             Ryan           2000                5"
            ]
          },
          "execution_count": 55,
          "metadata": {},
          "output_type": "execute_result"
        }
      ],
      "source": [
        "# Let's define a dataframe as follows:\n",
        "bank_client_df = pd.DataFrame({'Bank client ID':[111, 222, 333, 444],\n",
        "                               'Bank Client Name':['Chanel', 'Steve', 'Mitch', 'Ryan'],\n",
        "                               'Net worth [$]':[3500, 29000, 10000, 2000],\n",
        "                               'Years with bank':[3, 4, 9, 5]})\n",
        "bank_client_df"
      ]
    },
    {
      "cell_type": "code",
      "execution_count": null,
      "metadata": {
        "execution": {
          "iopub.execute_input": "2023-01-16T20:22:28.258485Z",
          "iopub.status.busy": "2023-01-16T20:22:28.257891Z",
          "iopub.status.idle": "2023-01-16T20:22:28.261734Z",
          "shell.execute_reply": "2023-01-16T20:22:28.261188Z",
          "shell.execute_reply.started": "2023-01-16T20:22:28.258457Z"
        },
        "trusted": true,
        "id": "dZXBfx7X69qy"
      },
      "outputs": [],
      "source": [
        "# Define a function that increases all clients networth (stocks) by a fixed value of 20% (for simplicity)\n",
        "def networth_update(balance):\n",
        "    return balance * 1.2"
      ]
    },
    {
      "cell_type": "code",
      "execution_count": null,
      "metadata": {
        "execution": {
          "iopub.execute_input": "2023-01-16T20:22:28.263262Z",
          "iopub.status.busy": "2023-01-16T20:22:28.262822Z",
          "iopub.status.idle": "2023-01-16T20:22:28.274613Z",
          "shell.execute_reply": "2023-01-16T20:22:28.274033Z",
          "shell.execute_reply.started": "2023-01-16T20:22:28.263238Z"
        },
        "trusted": true,
        "id": "sES5jpZZ69qy",
        "outputId": "dedf1dc8-9e0b-4426-b078-547d4c4d0494"
      },
      "outputs": [
        {
          "data": {
            "text/plain": [
              "0     4200.0\n",
              "1    34800.0\n",
              "2    12000.0\n",
              "3     2400.0\n",
              "Name: Net worth [$], dtype: float64"
            ]
          },
          "execution_count": 57,
          "metadata": {},
          "output_type": "execute_result"
        }
      ],
      "source": [
        "# You can apply a function to the DataFrame\n",
        "bank_client_df['Net worth [$]'].apply(networth_update)"
      ]
    },
    {
      "cell_type": "code",
      "execution_count": null,
      "metadata": {
        "execution": {
          "iopub.execute_input": "2023-01-16T20:22:28.276007Z",
          "iopub.status.busy": "2023-01-16T20:22:28.275583Z",
          "iopub.status.idle": "2023-01-16T20:22:28.286455Z",
          "shell.execute_reply": "2023-01-16T20:22:28.285438Z",
          "shell.execute_reply.started": "2023-01-16T20:22:28.275984Z"
        },
        "trusted": true,
        "id": "F8zXt7ZN69qy",
        "outputId": "10af9371-6244-454a-b214-f5d0bb51c85f"
      },
      "outputs": [
        {
          "data": {
            "text/plain": [
              "0    6\n",
              "1    5\n",
              "2    5\n",
              "3    4\n",
              "Name: Bank Client Name, dtype: int64"
            ]
          },
          "execution_count": 58,
          "metadata": {},
          "output_type": "execute_result"
        }
      ],
      "source": [
        "bank_client_df['Bank Client Name'].apply(len)"
      ]
    },
    {
      "cell_type": "markdown",
      "metadata": {
        "id": "UQwxmYdv69qy"
      },
      "source": [
        "MINI CHALLENGE #9:\n",
        "- Define a function that triples the stock prices and adds $200\n",
        "- Apply the function to the DataFrame\n",
        "- Calculate the updated total networth of all clients combined"
      ]
    },
    {
      "cell_type": "code",
      "execution_count": null,
      "metadata": {
        "execution": {
          "iopub.execute_input": "2023-01-16T20:22:28.289642Z",
          "iopub.status.busy": "2023-01-16T20:22:28.289280Z",
          "iopub.status.idle": "2023-01-16T20:22:28.297461Z",
          "shell.execute_reply": "2023-01-16T20:22:28.296067Z",
          "shell.execute_reply.started": "2023-01-16T20:22:28.289610Z"
        },
        "trusted": true,
        "id": "6DW_6IN169qy"
      },
      "outputs": [],
      "source": [
        "def networth_update(balance):\n",
        "    return balance * 3 + 200"
      ]
    },
    {
      "cell_type": "code",
      "execution_count": null,
      "metadata": {
        "execution": {
          "iopub.execute_input": "2023-01-16T20:22:28.299332Z",
          "iopub.status.busy": "2023-01-16T20:22:28.298625Z",
          "iopub.status.idle": "2023-01-16T20:22:28.312833Z",
          "shell.execute_reply": "2023-01-16T20:22:28.311683Z",
          "shell.execute_reply.started": "2023-01-16T20:22:28.299299Z"
        },
        "trusted": true,
        "id": "0e2sxOus69qy",
        "outputId": "d6f22e6d-bb95-4718-f5a9-3a84e64f68a0"
      },
      "outputs": [
        {
          "data": {
            "text/plain": [
              "0    10700\n",
              "1    87200\n",
              "2    30200\n",
              "3     6200\n",
              "Name: Net worth [$], dtype: int64"
            ]
          },
          "execution_count": 60,
          "metadata": {},
          "output_type": "execute_result"
        }
      ],
      "source": [
        "result = bank_client_df['Net worth [$]'].apply(networth_update)\n",
        "result"
      ]
    },
    {
      "cell_type": "code",
      "execution_count": null,
      "metadata": {
        "execution": {
          "iopub.execute_input": "2023-01-16T20:22:28.315335Z",
          "iopub.status.busy": "2023-01-16T20:22:28.314644Z",
          "iopub.status.idle": "2023-01-16T20:22:28.323524Z",
          "shell.execute_reply": "2023-01-16T20:22:28.322239Z",
          "shell.execute_reply.started": "2023-01-16T20:22:28.315294Z"
        },
        "trusted": true,
        "id": "mxku9CJP69qy",
        "outputId": "1b17d65b-c6b6-427a-8978-79f5792fc692"
      },
      "outputs": [
        {
          "data": {
            "text/plain": [
              "np.int64(44500)"
            ]
          },
          "execution_count": 61,
          "metadata": {},
          "output_type": "execute_result"
        }
      ],
      "source": [
        "bank_client_df['Net worth [$]'].sum()"
      ]
    },
    {
      "cell_type": "markdown",
      "metadata": {
        "id": "louss36a69qy"
      },
      "source": [
        "# TASK 10: PERFORM SORTING AND ORDERING IN PANDAS"
      ]
    },
    {
      "cell_type": "code",
      "execution_count": null,
      "metadata": {
        "execution": {
          "iopub.execute_input": "2023-01-16T20:22:28.325103Z",
          "iopub.status.busy": "2023-01-16T20:22:28.324645Z",
          "iopub.status.idle": "2023-01-16T20:22:28.341382Z",
          "shell.execute_reply": "2023-01-16T20:22:28.340169Z",
          "shell.execute_reply.started": "2023-01-16T20:22:28.325075Z"
        },
        "trusted": true,
        "id": "fCjwU4d_69qy",
        "outputId": "a19f5508-1c46-4264-b15b-d53d2c65f066"
      },
      "outputs": [
        {
          "data": {
            "text/html": [
              "<div>\n",
              "<style scoped>\n",
              "    .dataframe tbody tr th:only-of-type {\n",
              "        vertical-align: middle;\n",
              "    }\n",
              "\n",
              "    .dataframe tbody tr th {\n",
              "        vertical-align: top;\n",
              "    }\n",
              "\n",
              "    .dataframe thead th {\n",
              "        text-align: right;\n",
              "    }\n",
              "</style>\n",
              "<table border=\"1\" class=\"dataframe\">\n",
              "  <thead>\n",
              "    <tr style=\"text-align: right;\">\n",
              "      <th></th>\n",
              "      <th>Bank client ID</th>\n",
              "      <th>Bank Client Name</th>\n",
              "      <th>Net worth [$]</th>\n",
              "      <th>Years with bank</th>\n",
              "    </tr>\n",
              "  </thead>\n",
              "  <tbody>\n",
              "    <tr>\n",
              "      <th>0</th>\n",
              "      <td>111</td>\n",
              "      <td>Chanel</td>\n",
              "      <td>3500</td>\n",
              "      <td>3</td>\n",
              "    </tr>\n",
              "    <tr>\n",
              "      <th>1</th>\n",
              "      <td>222</td>\n",
              "      <td>Steve</td>\n",
              "      <td>29000</td>\n",
              "      <td>4</td>\n",
              "    </tr>\n",
              "    <tr>\n",
              "      <th>2</th>\n",
              "      <td>333</td>\n",
              "      <td>Mitch</td>\n",
              "      <td>10000</td>\n",
              "      <td>9</td>\n",
              "    </tr>\n",
              "    <tr>\n",
              "      <th>3</th>\n",
              "      <td>444</td>\n",
              "      <td>Ryan</td>\n",
              "      <td>2000</td>\n",
              "      <td>5</td>\n",
              "    </tr>\n",
              "  </tbody>\n",
              "</table>\n",
              "</div>"
            ],
            "text/plain": [
              "   Bank client ID Bank Client Name  Net worth [$]  Years with bank\n",
              "0             111           Chanel           3500                3\n",
              "1             222            Steve          29000                4\n",
              "2             333            Mitch          10000                9\n",
              "3             444             Ryan           2000                5"
            ]
          },
          "execution_count": 62,
          "metadata": {},
          "output_type": "execute_result"
        }
      ],
      "source": [
        "# Let's define a dataframe as follows:\n",
        "bank_client_df = pd.DataFrame({'Bank client ID':[111, 222, 333, 444],\n",
        "                               'Bank Client Name':['Chanel', 'Steve', 'Mitch', 'Ryan'],\n",
        "                               'Net worth [$]':[3500, 29000, 10000, 2000],\n",
        "                               'Years with bank':[3, 4, 9, 5]})\n",
        "bank_client_df"
      ]
    },
    {
      "cell_type": "code",
      "execution_count": null,
      "metadata": {
        "execution": {
          "iopub.execute_input": "2023-01-16T20:22:28.342865Z",
          "iopub.status.busy": "2023-01-16T20:22:28.342511Z",
          "iopub.status.idle": "2023-01-16T20:22:28.352539Z",
          "shell.execute_reply": "2023-01-16T20:22:28.351558Z",
          "shell.execute_reply.started": "2023-01-16T20:22:28.342839Z"
        },
        "trusted": true,
        "id": "xa9pg5Qx69qz",
        "outputId": "bf2943b0-f5f7-44ac-d72d-f1b32ab6ee09"
      },
      "outputs": [
        {
          "data": {
            "text/html": [
              "<div>\n",
              "<style scoped>\n",
              "    .dataframe tbody tr th:only-of-type {\n",
              "        vertical-align: middle;\n",
              "    }\n",
              "\n",
              "    .dataframe tbody tr th {\n",
              "        vertical-align: top;\n",
              "    }\n",
              "\n",
              "    .dataframe thead th {\n",
              "        text-align: right;\n",
              "    }\n",
              "</style>\n",
              "<table border=\"1\" class=\"dataframe\">\n",
              "  <thead>\n",
              "    <tr style=\"text-align: right;\">\n",
              "      <th></th>\n",
              "      <th>Bank client ID</th>\n",
              "      <th>Bank Client Name</th>\n",
              "      <th>Net worth [$]</th>\n",
              "      <th>Years with bank</th>\n",
              "    </tr>\n",
              "  </thead>\n",
              "  <tbody>\n",
              "    <tr>\n",
              "      <th>0</th>\n",
              "      <td>111</td>\n",
              "      <td>Chanel</td>\n",
              "      <td>3500</td>\n",
              "      <td>3</td>\n",
              "    </tr>\n",
              "    <tr>\n",
              "      <th>1</th>\n",
              "      <td>222</td>\n",
              "      <td>Steve</td>\n",
              "      <td>29000</td>\n",
              "      <td>4</td>\n",
              "    </tr>\n",
              "    <tr>\n",
              "      <th>3</th>\n",
              "      <td>444</td>\n",
              "      <td>Ryan</td>\n",
              "      <td>2000</td>\n",
              "      <td>5</td>\n",
              "    </tr>\n",
              "    <tr>\n",
              "      <th>2</th>\n",
              "      <td>333</td>\n",
              "      <td>Mitch</td>\n",
              "      <td>10000</td>\n",
              "      <td>9</td>\n",
              "    </tr>\n",
              "  </tbody>\n",
              "</table>\n",
              "</div>"
            ],
            "text/plain": [
              "   Bank client ID Bank Client Name  Net worth [$]  Years with bank\n",
              "0             111           Chanel           3500                3\n",
              "1             222            Steve          29000                4\n",
              "3             444             Ryan           2000                5\n",
              "2             333            Mitch          10000                9"
            ]
          },
          "execution_count": 63,
          "metadata": {},
          "output_type": "execute_result"
        }
      ],
      "source": [
        "# You can sort the values in the dataframe according to number of years with bank\n",
        "bank_client_df.sort_values(by = 'Years with bank')"
      ]
    },
    {
      "cell_type": "code",
      "execution_count": null,
      "metadata": {
        "execution": {
          "iopub.execute_input": "2023-01-16T20:22:28.354357Z",
          "iopub.status.busy": "2023-01-16T20:22:28.353846Z",
          "iopub.status.idle": "2023-01-16T20:22:28.371293Z",
          "shell.execute_reply": "2023-01-16T20:22:28.370378Z",
          "shell.execute_reply.started": "2023-01-16T20:22:28.354326Z"
        },
        "trusted": true,
        "id": "F6ckF7iz69qz",
        "outputId": "86d111ab-1bae-4b2a-d4a6-e0c76f523141"
      },
      "outputs": [
        {
          "data": {
            "text/html": [
              "<div>\n",
              "<style scoped>\n",
              "    .dataframe tbody tr th:only-of-type {\n",
              "        vertical-align: middle;\n",
              "    }\n",
              "\n",
              "    .dataframe tbody tr th {\n",
              "        vertical-align: top;\n",
              "    }\n",
              "\n",
              "    .dataframe thead th {\n",
              "        text-align: right;\n",
              "    }\n",
              "</style>\n",
              "<table border=\"1\" class=\"dataframe\">\n",
              "  <thead>\n",
              "    <tr style=\"text-align: right;\">\n",
              "      <th></th>\n",
              "      <th>Bank client ID</th>\n",
              "      <th>Bank Client Name</th>\n",
              "      <th>Net worth [$]</th>\n",
              "      <th>Years with bank</th>\n",
              "    </tr>\n",
              "  </thead>\n",
              "  <tbody>\n",
              "    <tr>\n",
              "      <th>0</th>\n",
              "      <td>111</td>\n",
              "      <td>Chanel</td>\n",
              "      <td>3500</td>\n",
              "      <td>3</td>\n",
              "    </tr>\n",
              "    <tr>\n",
              "      <th>1</th>\n",
              "      <td>222</td>\n",
              "      <td>Steve</td>\n",
              "      <td>29000</td>\n",
              "      <td>4</td>\n",
              "    </tr>\n",
              "    <tr>\n",
              "      <th>3</th>\n",
              "      <td>444</td>\n",
              "      <td>Ryan</td>\n",
              "      <td>2000</td>\n",
              "      <td>5</td>\n",
              "    </tr>\n",
              "    <tr>\n",
              "      <th>2</th>\n",
              "      <td>333</td>\n",
              "      <td>Mitch</td>\n",
              "      <td>10000</td>\n",
              "      <td>9</td>\n",
              "    </tr>\n",
              "  </tbody>\n",
              "</table>\n",
              "</div>"
            ],
            "text/plain": [
              "   Bank client ID Bank Client Name  Net worth [$]  Years with bank\n",
              "0             111           Chanel           3500                3\n",
              "1             222            Steve          29000                4\n",
              "3             444             Ryan           2000                5\n",
              "2             333            Mitch          10000                9"
            ]
          },
          "execution_count": 64,
          "metadata": {},
          "output_type": "execute_result"
        }
      ],
      "source": [
        "# Note that nothing changed in memory! you have to make sure that inplace is set to True\n",
        "# Set inplace = True to ensure that change has taken place in memory\n",
        "# Note that now the change (ordering) took place\n",
        "bank_client_df.sort_values(by = 'Years with bank',inplace=True)\n",
        "bank_client_df"
      ]
    },
    {
      "cell_type": "markdown",
      "metadata": {
        "id": "J1FHbdTA69qz"
      },
      "source": [
        "# TASK 11: PERFORM CONCATENATING AND MERGING WITH PANDAS"
      ]
    },
    {
      "cell_type": "code",
      "execution_count": null,
      "metadata": {
        "execution": {
          "iopub.execute_input": "2023-01-16T20:22:28.373383Z",
          "iopub.status.busy": "2023-01-16T20:22:28.372399Z",
          "iopub.status.idle": "2023-01-16T20:22:28.387354Z",
          "shell.execute_reply": "2023-01-16T20:22:28.386202Z",
          "shell.execute_reply.started": "2023-01-16T20:22:28.373282Z"
        },
        "trusted": true,
        "id": "tURkC-ko69qz",
        "outputId": "79794e50-219c-4f92-d7dc-f7dd2d875ea1"
      },
      "outputs": [
        {
          "data": {
            "text/html": [
              "<div>\n",
              "<style scoped>\n",
              "    .dataframe tbody tr th:only-of-type {\n",
              "        vertical-align: middle;\n",
              "    }\n",
              "\n",
              "    .dataframe tbody tr th {\n",
              "        vertical-align: top;\n",
              "    }\n",
              "\n",
              "    .dataframe thead th {\n",
              "        text-align: right;\n",
              "    }\n",
              "</style>\n",
              "<table border=\"1\" class=\"dataframe\">\n",
              "  <thead>\n",
              "    <tr style=\"text-align: right;\">\n",
              "      <th></th>\n",
              "      <th>A</th>\n",
              "      <th>B</th>\n",
              "      <th>C</th>\n",
              "      <th>D</th>\n",
              "    </tr>\n",
              "  </thead>\n",
              "  <tbody>\n",
              "    <tr>\n",
              "      <th>0</th>\n",
              "      <td>A0</td>\n",
              "      <td>B0</td>\n",
              "      <td>C0</td>\n",
              "      <td>D0</td>\n",
              "    </tr>\n",
              "    <tr>\n",
              "      <th>1</th>\n",
              "      <td>A1</td>\n",
              "      <td>B1</td>\n",
              "      <td>C1</td>\n",
              "      <td>D1</td>\n",
              "    </tr>\n",
              "    <tr>\n",
              "      <th>2</th>\n",
              "      <td>A2</td>\n",
              "      <td>B2</td>\n",
              "      <td>C2</td>\n",
              "      <td>D2</td>\n",
              "    </tr>\n",
              "    <tr>\n",
              "      <th>3</th>\n",
              "      <td>A3</td>\n",
              "      <td>B3</td>\n",
              "      <td>C3</td>\n",
              "      <td>D3</td>\n",
              "    </tr>\n",
              "  </tbody>\n",
              "</table>\n",
              "</div>"
            ],
            "text/plain": [
              "    A   B   C   D\n",
              "0  A0  B0  C0  D0\n",
              "1  A1  B1  C1  D1\n",
              "2  A2  B2  C2  D2\n",
              "3  A3  B3  C3  D3"
            ]
          },
          "execution_count": 65,
          "metadata": {},
          "output_type": "execute_result"
        }
      ],
      "source": [
        "df1 = pd.DataFrame({'A':['A0','A1','A2','A3'],'B':['B0','B1','B2','B3'],\n",
        "                   'C':['C0','C1','C2','C3'],'D':['D0','D1','D2','D3']}, index = [0,1,2,3])\n",
        "df1"
      ]
    },
    {
      "cell_type": "code",
      "execution_count": null,
      "metadata": {
        "execution": {
          "iopub.execute_input": "2023-01-16T20:22:28.388928Z",
          "iopub.status.busy": "2023-01-16T20:22:28.388578Z",
          "iopub.status.idle": "2023-01-16T20:22:28.400664Z",
          "shell.execute_reply": "2023-01-16T20:22:28.400037Z",
          "shell.execute_reply.started": "2023-01-16T20:22:28.388899Z"
        },
        "trusted": true,
        "id": "r6_ObBwt69qz",
        "outputId": "88572b4a-8158-4be6-feb2-89b077251be6"
      },
      "outputs": [
        {
          "data": {
            "text/html": [
              "<div>\n",
              "<style scoped>\n",
              "    .dataframe tbody tr th:only-of-type {\n",
              "        vertical-align: middle;\n",
              "    }\n",
              "\n",
              "    .dataframe tbody tr th {\n",
              "        vertical-align: top;\n",
              "    }\n",
              "\n",
              "    .dataframe thead th {\n",
              "        text-align: right;\n",
              "    }\n",
              "</style>\n",
              "<table border=\"1\" class=\"dataframe\">\n",
              "  <thead>\n",
              "    <tr style=\"text-align: right;\">\n",
              "      <th></th>\n",
              "      <th>A</th>\n",
              "      <th>B</th>\n",
              "      <th>C</th>\n",
              "      <th>D</th>\n",
              "    </tr>\n",
              "  </thead>\n",
              "  <tbody>\n",
              "    <tr>\n",
              "      <th>4</th>\n",
              "      <td>A4</td>\n",
              "      <td>B4</td>\n",
              "      <td>C4</td>\n",
              "      <td>D4</td>\n",
              "    </tr>\n",
              "    <tr>\n",
              "      <th>5</th>\n",
              "      <td>A5</td>\n",
              "      <td>B5</td>\n",
              "      <td>C5</td>\n",
              "      <td>D5</td>\n",
              "    </tr>\n",
              "    <tr>\n",
              "      <th>6</th>\n",
              "      <td>A6</td>\n",
              "      <td>B6</td>\n",
              "      <td>C6</td>\n",
              "      <td>D6</td>\n",
              "    </tr>\n",
              "    <tr>\n",
              "      <th>7</th>\n",
              "      <td>A7</td>\n",
              "      <td>B7</td>\n",
              "      <td>C7</td>\n",
              "      <td>D7</td>\n",
              "    </tr>\n",
              "  </tbody>\n",
              "</table>\n",
              "</div>"
            ],
            "text/plain": [
              "    A   B   C   D\n",
              "4  A4  B4  C4  D4\n",
              "5  A5  B5  C5  D5\n",
              "6  A6  B6  C6  D6\n",
              "7  A7  B7  C7  D7"
            ]
          },
          "execution_count": 66,
          "metadata": {},
          "output_type": "execute_result"
        }
      ],
      "source": [
        "df2 = pd.DataFrame({'A':['A4','A5','A6','A7'],'B':['B4','B5','B6','B7'],\n",
        "                   'C':['C4','C5','C6','C7'],'D':['D4','D5','D6','D7']}, index = [4,5,6,7])\n",
        "df2"
      ]
    },
    {
      "cell_type": "code",
      "execution_count": null,
      "metadata": {
        "execution": {
          "iopub.execute_input": "2023-01-16T20:22:28.402326Z",
          "iopub.status.busy": "2023-01-16T20:22:28.401567Z",
          "iopub.status.idle": "2023-01-16T20:22:28.412828Z",
          "shell.execute_reply": "2023-01-16T20:22:28.412181Z",
          "shell.execute_reply.started": "2023-01-16T20:22:28.402300Z"
        },
        "trusted": true,
        "id": "OZIianP169qz",
        "outputId": "9b74a2ff-906e-465f-a627-756d0a61adc8"
      },
      "outputs": [
        {
          "data": {
            "text/html": [
              "<div>\n",
              "<style scoped>\n",
              "    .dataframe tbody tr th:only-of-type {\n",
              "        vertical-align: middle;\n",
              "    }\n",
              "\n",
              "    .dataframe tbody tr th {\n",
              "        vertical-align: top;\n",
              "    }\n",
              "\n",
              "    .dataframe thead th {\n",
              "        text-align: right;\n",
              "    }\n",
              "</style>\n",
              "<table border=\"1\" class=\"dataframe\">\n",
              "  <thead>\n",
              "    <tr style=\"text-align: right;\">\n",
              "      <th></th>\n",
              "      <th>A</th>\n",
              "      <th>B</th>\n",
              "      <th>C</th>\n",
              "      <th>D</th>\n",
              "    </tr>\n",
              "  </thead>\n",
              "  <tbody>\n",
              "    <tr>\n",
              "      <th>8</th>\n",
              "      <td>A8</td>\n",
              "      <td>B8</td>\n",
              "      <td>C8</td>\n",
              "      <td>D8</td>\n",
              "    </tr>\n",
              "    <tr>\n",
              "      <th>9</th>\n",
              "      <td>A9</td>\n",
              "      <td>B9</td>\n",
              "      <td>C9</td>\n",
              "      <td>D9</td>\n",
              "    </tr>\n",
              "    <tr>\n",
              "      <th>10</th>\n",
              "      <td>A10</td>\n",
              "      <td>B10</td>\n",
              "      <td>C10</td>\n",
              "      <td>D10</td>\n",
              "    </tr>\n",
              "    <tr>\n",
              "      <th>11</th>\n",
              "      <td>A11</td>\n",
              "      <td>B11</td>\n",
              "      <td>C11</td>\n",
              "      <td>D11</td>\n",
              "    </tr>\n",
              "  </tbody>\n",
              "</table>\n",
              "</div>"
            ],
            "text/plain": [
              "      A    B    C    D\n",
              "8    A8   B8   C8   D8\n",
              "9    A9   B9   C9   D9\n",
              "10  A10  B10  C10  D10\n",
              "11  A11  B11  C11  D11"
            ]
          },
          "execution_count": 67,
          "metadata": {},
          "output_type": "execute_result"
        }
      ],
      "source": [
        "df3 = pd.DataFrame({'A':['A8','A9','A10','A11'],'B':['B8','B9','B10','B11'],\n",
        "                   'C':['C8','C9','C10','C11'],'D':['D8','D9','D10','D11']}, index = [8,9,10,11])\n",
        "df3"
      ]
    },
    {
      "cell_type": "code",
      "execution_count": null,
      "metadata": {
        "execution": {
          "iopub.execute_input": "2023-01-16T20:22:28.414469Z",
          "iopub.status.busy": "2023-01-16T20:22:28.413817Z",
          "iopub.status.idle": "2023-01-16T20:22:28.425761Z",
          "shell.execute_reply": "2023-01-16T20:22:28.424585Z",
          "shell.execute_reply.started": "2023-01-16T20:22:28.414444Z"
        },
        "trusted": true,
        "id": "Zwt4Exa669qz",
        "outputId": "d3d54812-1744-4d7c-bf93-1e77866cb81a"
      },
      "outputs": [
        {
          "data": {
            "text/html": [
              "<div>\n",
              "<style scoped>\n",
              "    .dataframe tbody tr th:only-of-type {\n",
              "        vertical-align: middle;\n",
              "    }\n",
              "\n",
              "    .dataframe tbody tr th {\n",
              "        vertical-align: top;\n",
              "    }\n",
              "\n",
              "    .dataframe thead th {\n",
              "        text-align: right;\n",
              "    }\n",
              "</style>\n",
              "<table border=\"1\" class=\"dataframe\">\n",
              "  <thead>\n",
              "    <tr style=\"text-align: right;\">\n",
              "      <th></th>\n",
              "      <th>A</th>\n",
              "      <th>B</th>\n",
              "      <th>C</th>\n",
              "      <th>D</th>\n",
              "    </tr>\n",
              "  </thead>\n",
              "  <tbody>\n",
              "    <tr>\n",
              "      <th>0</th>\n",
              "      <td>A0</td>\n",
              "      <td>B0</td>\n",
              "      <td>C0</td>\n",
              "      <td>D0</td>\n",
              "    </tr>\n",
              "    <tr>\n",
              "      <th>1</th>\n",
              "      <td>A1</td>\n",
              "      <td>B1</td>\n",
              "      <td>C1</td>\n",
              "      <td>D1</td>\n",
              "    </tr>\n",
              "    <tr>\n",
              "      <th>2</th>\n",
              "      <td>A2</td>\n",
              "      <td>B2</td>\n",
              "      <td>C2</td>\n",
              "      <td>D2</td>\n",
              "    </tr>\n",
              "    <tr>\n",
              "      <th>3</th>\n",
              "      <td>A3</td>\n",
              "      <td>B3</td>\n",
              "      <td>C3</td>\n",
              "      <td>D3</td>\n",
              "    </tr>\n",
              "    <tr>\n",
              "      <th>4</th>\n",
              "      <td>A4</td>\n",
              "      <td>B4</td>\n",
              "      <td>C4</td>\n",
              "      <td>D4</td>\n",
              "    </tr>\n",
              "    <tr>\n",
              "      <th>5</th>\n",
              "      <td>A5</td>\n",
              "      <td>B5</td>\n",
              "      <td>C5</td>\n",
              "      <td>D5</td>\n",
              "    </tr>\n",
              "    <tr>\n",
              "      <th>6</th>\n",
              "      <td>A6</td>\n",
              "      <td>B6</td>\n",
              "      <td>C6</td>\n",
              "      <td>D6</td>\n",
              "    </tr>\n",
              "    <tr>\n",
              "      <th>7</th>\n",
              "      <td>A7</td>\n",
              "      <td>B7</td>\n",
              "      <td>C7</td>\n",
              "      <td>D7</td>\n",
              "    </tr>\n",
              "    <tr>\n",
              "      <th>8</th>\n",
              "      <td>A8</td>\n",
              "      <td>B8</td>\n",
              "      <td>C8</td>\n",
              "      <td>D8</td>\n",
              "    </tr>\n",
              "    <tr>\n",
              "      <th>9</th>\n",
              "      <td>A9</td>\n",
              "      <td>B9</td>\n",
              "      <td>C9</td>\n",
              "      <td>D9</td>\n",
              "    </tr>\n",
              "    <tr>\n",
              "      <th>10</th>\n",
              "      <td>A10</td>\n",
              "      <td>B10</td>\n",
              "      <td>C10</td>\n",
              "      <td>D10</td>\n",
              "    </tr>\n",
              "    <tr>\n",
              "      <th>11</th>\n",
              "      <td>A11</td>\n",
              "      <td>B11</td>\n",
              "      <td>C11</td>\n",
              "      <td>D11</td>\n",
              "    </tr>\n",
              "  </tbody>\n",
              "</table>\n",
              "</div>"
            ],
            "text/plain": [
              "      A    B    C    D\n",
              "0    A0   B0   C0   D0\n",
              "1    A1   B1   C1   D1\n",
              "2    A2   B2   C2   D2\n",
              "3    A3   B3   C3   D3\n",
              "4    A4   B4   C4   D4\n",
              "5    A5   B5   C5   D5\n",
              "6    A6   B6   C6   D6\n",
              "7    A7   B7   C7   D7\n",
              "8    A8   B8   C8   D8\n",
              "9    A9   B9   C9   D9\n",
              "10  A10  B10  C10  D10\n",
              "11  A11  B11  C11  D11"
            ]
          },
          "execution_count": 68,
          "metadata": {},
          "output_type": "execute_result"
        }
      ],
      "source": [
        "pd.concat([df1,df2,df3])"
      ]
    },
    {
      "cell_type": "markdown",
      "metadata": {
        "id": "o2In-bxs69qz"
      },
      "source": [
        "# TASK 12: PROJECT AND CONCLUDING REMARKS"
      ]
    },
    {
      "cell_type": "markdown",
      "metadata": {
        "id": "KZddhw7N69qz"
      },
      "source": [
        "- Define a dataframe named 'Bank_df_1' that contains the first and last names for 5 bank clients with IDs = 1, 2, 3, 4, 5\n",
        "- Assume that the bank got 5 new clients, define another dataframe named 'Bank_df_2' that contains a new clients with IDs = 6, 7, 8, 9, 10\n",
        "- Let's assume we obtained additional information (Annual Salary) about all our bank customers (10 customers)\n",
        "- Concatenate both 'bank_df_1' and 'bank_df_2' dataframes\n",
        "- Merge client names and their newly added salary information using the 'Bank Client ID'\n",
        "- Let's assume that you became a new client to the bank\n",
        "- Define a new DataFrame that contains your information such as client ID (choose 11), first name, last name, and annual salary.\n",
        "- Add this new dataframe to the original dataframe 'bank_df_all'."
      ]
    },
    {
      "cell_type": "code",
      "execution_count": null,
      "metadata": {
        "execution": {
          "iopub.execute_input": "2023-01-16T20:22:28.427287Z",
          "iopub.status.busy": "2023-01-16T20:22:28.426890Z",
          "iopub.status.idle": "2023-01-16T20:22:28.443270Z",
          "shell.execute_reply": "2023-01-16T20:22:28.442347Z",
          "shell.execute_reply.started": "2023-01-16T20:22:28.427262Z"
        },
        "trusted": true,
        "id": "1WBifCKt69q0",
        "outputId": "1cb7a310-1f68-462d-a5b6-272854993e9e"
      },
      "outputs": [
        {
          "data": {
            "text/html": [
              "<div>\n",
              "<style scoped>\n",
              "    .dataframe tbody tr th:only-of-type {\n",
              "        vertical-align: middle;\n",
              "    }\n",
              "\n",
              "    .dataframe tbody tr th {\n",
              "        vertical-align: top;\n",
              "    }\n",
              "\n",
              "    .dataframe thead th {\n",
              "        text-align: right;\n",
              "    }\n",
              "</style>\n",
              "<table border=\"1\" class=\"dataframe\">\n",
              "  <thead>\n",
              "    <tr style=\"text-align: right;\">\n",
              "      <th></th>\n",
              "      <th>Bank Client ID</th>\n",
              "      <th>First Name</th>\n",
              "      <th>Last Name</th>\n",
              "    </tr>\n",
              "  </thead>\n",
              "  <tbody>\n",
              "    <tr>\n",
              "      <th>0</th>\n",
              "      <td>1</td>\n",
              "      <td>Sheema</td>\n",
              "      <td>Rao</td>\n",
              "    </tr>\n",
              "    <tr>\n",
              "      <th>1</th>\n",
              "      <td>2</td>\n",
              "      <td>Ravi</td>\n",
              "      <td>Takur</td>\n",
              "    </tr>\n",
              "    <tr>\n",
              "      <th>2</th>\n",
              "      <td>3</td>\n",
              "      <td>Ram</td>\n",
              "      <td>Kumar</td>\n",
              "    </tr>\n",
              "    <tr>\n",
              "      <th>3</th>\n",
              "      <td>4</td>\n",
              "      <td>Tessa</td>\n",
              "      <td>Andrew</td>\n",
              "    </tr>\n",
              "    <tr>\n",
              "      <th>4</th>\n",
              "      <td>5</td>\n",
              "      <td>Guru</td>\n",
              "      <td>Nath</td>\n",
              "    </tr>\n",
              "  </tbody>\n",
              "</table>\n",
              "</div>"
            ],
            "text/plain": [
              "  Bank Client ID First Name Last Name\n",
              "0              1     Sheema       Rao\n",
              "1              2       Ravi     Takur\n",
              "2              3        Ram     Kumar\n",
              "3              4      Tessa    Andrew\n",
              "4              5       Guru      Nath"
            ]
          },
          "execution_count": 69,
          "metadata": {},
          "output_type": "execute_result"
        }
      ],
      "source": [
        "raw_data = {'Bank Client ID': ['1','2','3','4','5'],\n",
        "            'First Name':['Sheema','Ravi','Ram','Tessa','Guru'],\n",
        "            'Last Name':['Rao','Takur','Kumar','Andrew','Nath']}\n",
        "Bank_df_1 = pd.DataFrame(raw_data, columns = ['Bank Client ID','First Name','Last Name'])\n",
        "Bank_df_1"
      ]
    },
    {
      "cell_type": "code",
      "execution_count": null,
      "metadata": {
        "execution": {
          "iopub.execute_input": "2023-01-16T20:22:28.445348Z",
          "iopub.status.busy": "2023-01-16T20:22:28.444767Z",
          "iopub.status.idle": "2023-01-16T20:22:28.458982Z",
          "shell.execute_reply": "2023-01-16T20:22:28.458009Z",
          "shell.execute_reply.started": "2023-01-16T20:22:28.445308Z"
        },
        "trusted": true,
        "id": "VfXECxpk69q0",
        "outputId": "20277d68-18ae-4d99-afde-9b0aeaec5317"
      },
      "outputs": [
        {
          "data": {
            "text/html": [
              "<div>\n",
              "<style scoped>\n",
              "    .dataframe tbody tr th:only-of-type {\n",
              "        vertical-align: middle;\n",
              "    }\n",
              "\n",
              "    .dataframe tbody tr th {\n",
              "        vertical-align: top;\n",
              "    }\n",
              "\n",
              "    .dataframe thead th {\n",
              "        text-align: right;\n",
              "    }\n",
              "</style>\n",
              "<table border=\"1\" class=\"dataframe\">\n",
              "  <thead>\n",
              "    <tr style=\"text-align: right;\">\n",
              "      <th></th>\n",
              "      <th>Bank Client ID</th>\n",
              "      <th>First Name</th>\n",
              "      <th>Last Name</th>\n",
              "    </tr>\n",
              "  </thead>\n",
              "  <tbody>\n",
              "    <tr>\n",
              "      <th>0</th>\n",
              "      <td>6</td>\n",
              "      <td>Sheethal</td>\n",
              "      <td>Sharma</td>\n",
              "    </tr>\n",
              "    <tr>\n",
              "      <th>1</th>\n",
              "      <td>7</td>\n",
              "      <td>Rajesh</td>\n",
              "      <td>Thamran</td>\n",
              "    </tr>\n",
              "    <tr>\n",
              "      <th>2</th>\n",
              "      <td>8</td>\n",
              "      <td>Raghu</td>\n",
              "      <td>Ram</td>\n",
              "    </tr>\n",
              "    <tr>\n",
              "      <th>3</th>\n",
              "      <td>9</td>\n",
              "      <td>Arun</td>\n",
              "      <td>Vijay</td>\n",
              "    </tr>\n",
              "    <tr>\n",
              "      <th>4</th>\n",
              "      <td>10</td>\n",
              "      <td>Ravi</td>\n",
              "      <td>Shastri</td>\n",
              "    </tr>\n",
              "  </tbody>\n",
              "</table>\n",
              "</div>"
            ],
            "text/plain": [
              "  Bank Client ID First Name Last Name\n",
              "0              6   Sheethal    Sharma\n",
              "1              7     Rajesh   Thamran\n",
              "2              8      Raghu       Ram\n",
              "3              9       Arun     Vijay\n",
              "4             10       Ravi   Shastri"
            ]
          },
          "execution_count": 70,
          "metadata": {},
          "output_type": "execute_result"
        }
      ],
      "source": [
        "raw_data = {'Bank Client ID': ['6','7','8','9','10'],\n",
        "            'First Name':['Sheethal','Rajesh','Raghu','Arun','Ravi'],\n",
        "            'Last Name':['Sharma','Thamran','Ram','Vijay','Shastri']}\n",
        "Bank_df_2 = pd.DataFrame(raw_data, columns = ['Bank Client ID','First Name','Last Name'])\n",
        "Bank_df_2"
      ]
    },
    {
      "cell_type": "code",
      "execution_count": null,
      "metadata": {
        "execution": {
          "iopub.execute_input": "2023-01-16T20:22:28.461249Z",
          "iopub.status.busy": "2023-01-16T20:22:28.460717Z",
          "iopub.status.idle": "2023-01-16T20:22:28.473328Z",
          "shell.execute_reply": "2023-01-16T20:22:28.472073Z",
          "shell.execute_reply.started": "2023-01-16T20:22:28.461215Z"
        },
        "trusted": true,
        "id": "QHI_xFyQ69q0",
        "outputId": "a037af36-8265-4dde-f495-8b7758db1e78"
      },
      "outputs": [
        {
          "data": {
            "text/html": [
              "<div>\n",
              "<style scoped>\n",
              "    .dataframe tbody tr th:only-of-type {\n",
              "        vertical-align: middle;\n",
              "    }\n",
              "\n",
              "    .dataframe tbody tr th {\n",
              "        vertical-align: top;\n",
              "    }\n",
              "\n",
              "    .dataframe thead th {\n",
              "        text-align: right;\n",
              "    }\n",
              "</style>\n",
              "<table border=\"1\" class=\"dataframe\">\n",
              "  <thead>\n",
              "    <tr style=\"text-align: right;\">\n",
              "      <th></th>\n",
              "      <th>Bank Client ID</th>\n",
              "      <th>Annual Salary ($/Year)</th>\n",
              "    </tr>\n",
              "  </thead>\n",
              "  <tbody>\n",
              "    <tr>\n",
              "      <th>0</th>\n",
              "      <td>1</td>\n",
              "      <td>25000</td>\n",
              "    </tr>\n",
              "    <tr>\n",
              "      <th>1</th>\n",
              "      <td>2</td>\n",
              "      <td>30000</td>\n",
              "    </tr>\n",
              "    <tr>\n",
              "      <th>2</th>\n",
              "      <td>3</td>\n",
              "      <td>54000</td>\n",
              "    </tr>\n",
              "    <tr>\n",
              "      <th>3</th>\n",
              "      <td>4</td>\n",
              "      <td>87000</td>\n",
              "    </tr>\n",
              "    <tr>\n",
              "      <th>4</th>\n",
              "      <td>5</td>\n",
              "      <td>32000</td>\n",
              "    </tr>\n",
              "    <tr>\n",
              "      <th>5</th>\n",
              "      <td>6</td>\n",
              "      <td>76000</td>\n",
              "    </tr>\n",
              "    <tr>\n",
              "      <th>6</th>\n",
              "      <td>7</td>\n",
              "      <td>56000</td>\n",
              "    </tr>\n",
              "    <tr>\n",
              "      <th>7</th>\n",
              "      <td>8</td>\n",
              "      <td>43000</td>\n",
              "    </tr>\n",
              "    <tr>\n",
              "      <th>8</th>\n",
              "      <td>9</td>\n",
              "      <td>27000</td>\n",
              "    </tr>\n",
              "    <tr>\n",
              "      <th>9</th>\n",
              "      <td>10</td>\n",
              "      <td>37000</td>\n",
              "    </tr>\n",
              "  </tbody>\n",
              "</table>\n",
              "</div>"
            ],
            "text/plain": [
              "  Bank Client ID  Annual Salary ($/Year)\n",
              "0              1                   25000\n",
              "1              2                   30000\n",
              "2              3                   54000\n",
              "3              4                   87000\n",
              "4              5                   32000\n",
              "5              6                   76000\n",
              "6              7                   56000\n",
              "7              8                   43000\n",
              "8              9                   27000\n",
              "9             10                   37000"
            ]
          },
          "execution_count": 71,
          "metadata": {},
          "output_type": "execute_result"
        }
      ],
      "source": [
        "raw_data = {'Bank Client ID': ['1','2','3','4','5','6','7','8','9','10'],\n",
        "            'Annual Salary ($/Year)': [25000, 30000, 54000, 87000, 32000, 76000, 56000, 43000, 27000, 37000]}\n",
        "bank_df_salary = pd.DataFrame(raw_data, columns = ['Bank Client ID','Annual Salary ($/Year)'])\n",
        "bank_df_salary"
      ]
    },
    {
      "cell_type": "code",
      "execution_count": null,
      "metadata": {
        "execution": {
          "iopub.execute_input": "2023-01-16T20:22:28.475336Z",
          "iopub.status.busy": "2023-01-16T20:22:28.474698Z",
          "iopub.status.idle": "2023-01-16T20:22:28.486940Z",
          "shell.execute_reply": "2023-01-16T20:22:28.485538Z",
          "shell.execute_reply.started": "2023-01-16T20:22:28.475303Z"
        },
        "trusted": true,
        "id": "e9btJlcD69q0",
        "outputId": "5df89ad3-3045-4237-ee19-1c9a0ac9f9f2"
      },
      "outputs": [
        {
          "data": {
            "text/html": [
              "<div>\n",
              "<style scoped>\n",
              "    .dataframe tbody tr th:only-of-type {\n",
              "        vertical-align: middle;\n",
              "    }\n",
              "\n",
              "    .dataframe tbody tr th {\n",
              "        vertical-align: top;\n",
              "    }\n",
              "\n",
              "    .dataframe thead th {\n",
              "        text-align: right;\n",
              "    }\n",
              "</style>\n",
              "<table border=\"1\" class=\"dataframe\">\n",
              "  <thead>\n",
              "    <tr style=\"text-align: right;\">\n",
              "      <th></th>\n",
              "      <th>Bank Client ID</th>\n",
              "      <th>First Name</th>\n",
              "      <th>Last Name</th>\n",
              "    </tr>\n",
              "  </thead>\n",
              "  <tbody>\n",
              "    <tr>\n",
              "      <th>0</th>\n",
              "      <td>1</td>\n",
              "      <td>Sheema</td>\n",
              "      <td>Rao</td>\n",
              "    </tr>\n",
              "    <tr>\n",
              "      <th>1</th>\n",
              "      <td>2</td>\n",
              "      <td>Ravi</td>\n",
              "      <td>Takur</td>\n",
              "    </tr>\n",
              "    <tr>\n",
              "      <th>2</th>\n",
              "      <td>3</td>\n",
              "      <td>Ram</td>\n",
              "      <td>Kumar</td>\n",
              "    </tr>\n",
              "    <tr>\n",
              "      <th>3</th>\n",
              "      <td>4</td>\n",
              "      <td>Tessa</td>\n",
              "      <td>Andrew</td>\n",
              "    </tr>\n",
              "    <tr>\n",
              "      <th>4</th>\n",
              "      <td>5</td>\n",
              "      <td>Guru</td>\n",
              "      <td>Nath</td>\n",
              "    </tr>\n",
              "    <tr>\n",
              "      <th>0</th>\n",
              "      <td>6</td>\n",
              "      <td>Sheethal</td>\n",
              "      <td>Sharma</td>\n",
              "    </tr>\n",
              "    <tr>\n",
              "      <th>1</th>\n",
              "      <td>7</td>\n",
              "      <td>Rajesh</td>\n",
              "      <td>Thamran</td>\n",
              "    </tr>\n",
              "    <tr>\n",
              "      <th>2</th>\n",
              "      <td>8</td>\n",
              "      <td>Raghu</td>\n",
              "      <td>Ram</td>\n",
              "    </tr>\n",
              "    <tr>\n",
              "      <th>3</th>\n",
              "      <td>9</td>\n",
              "      <td>Arun</td>\n",
              "      <td>Vijay</td>\n",
              "    </tr>\n",
              "    <tr>\n",
              "      <th>4</th>\n",
              "      <td>10</td>\n",
              "      <td>Ravi</td>\n",
              "      <td>Shastri</td>\n",
              "    </tr>\n",
              "  </tbody>\n",
              "</table>\n",
              "</div>"
            ],
            "text/plain": [
              "  Bank Client ID First Name Last Name\n",
              "0              1     Sheema       Rao\n",
              "1              2       Ravi     Takur\n",
              "2              3        Ram     Kumar\n",
              "3              4      Tessa    Andrew\n",
              "4              5       Guru      Nath\n",
              "0              6   Sheethal    Sharma\n",
              "1              7     Rajesh   Thamran\n",
              "2              8      Raghu       Ram\n",
              "3              9       Arun     Vijay\n",
              "4             10       Ravi   Shastri"
            ]
          },
          "execution_count": 72,
          "metadata": {},
          "output_type": "execute_result"
        }
      ],
      "source": [
        "Bank_df_all = pd.concat([Bank_df_1, Bank_df_2])\n",
        "Bank_df_all"
      ]
    },
    {
      "cell_type": "code",
      "execution_count": null,
      "metadata": {
        "execution": {
          "iopub.execute_input": "2023-01-16T20:22:28.489266Z",
          "iopub.status.busy": "2023-01-16T20:22:28.488113Z",
          "iopub.status.idle": "2023-01-16T20:22:28.510848Z",
          "shell.execute_reply": "2023-01-16T20:22:28.509993Z",
          "shell.execute_reply.started": "2023-01-16T20:22:28.489218Z"
        },
        "trusted": true,
        "id": "0LEJhzhG69q0",
        "outputId": "eef2ce46-099c-4eb7-d727-6f255dcef8a6"
      },
      "outputs": [
        {
          "data": {
            "text/html": [
              "<div>\n",
              "<style scoped>\n",
              "    .dataframe tbody tr th:only-of-type {\n",
              "        vertical-align: middle;\n",
              "    }\n",
              "\n",
              "    .dataframe tbody tr th {\n",
              "        vertical-align: top;\n",
              "    }\n",
              "\n",
              "    .dataframe thead th {\n",
              "        text-align: right;\n",
              "    }\n",
              "</style>\n",
              "<table border=\"1\" class=\"dataframe\">\n",
              "  <thead>\n",
              "    <tr style=\"text-align: right;\">\n",
              "      <th></th>\n",
              "      <th>Bank Client ID</th>\n",
              "      <th>First Name</th>\n",
              "      <th>Last Name</th>\n",
              "      <th>Annual Salary ($/Year)</th>\n",
              "    </tr>\n",
              "  </thead>\n",
              "  <tbody>\n",
              "    <tr>\n",
              "      <th>0</th>\n",
              "      <td>1</td>\n",
              "      <td>Sheema</td>\n",
              "      <td>Rao</td>\n",
              "      <td>25000</td>\n",
              "    </tr>\n",
              "    <tr>\n",
              "      <th>1</th>\n",
              "      <td>2</td>\n",
              "      <td>Ravi</td>\n",
              "      <td>Takur</td>\n",
              "      <td>30000</td>\n",
              "    </tr>\n",
              "    <tr>\n",
              "      <th>2</th>\n",
              "      <td>3</td>\n",
              "      <td>Ram</td>\n",
              "      <td>Kumar</td>\n",
              "      <td>54000</td>\n",
              "    </tr>\n",
              "    <tr>\n",
              "      <th>3</th>\n",
              "      <td>4</td>\n",
              "      <td>Tessa</td>\n",
              "      <td>Andrew</td>\n",
              "      <td>87000</td>\n",
              "    </tr>\n",
              "    <tr>\n",
              "      <th>4</th>\n",
              "      <td>5</td>\n",
              "      <td>Guru</td>\n",
              "      <td>Nath</td>\n",
              "      <td>32000</td>\n",
              "    </tr>\n",
              "    <tr>\n",
              "      <th>5</th>\n",
              "      <td>6</td>\n",
              "      <td>Sheethal</td>\n",
              "      <td>Sharma</td>\n",
              "      <td>76000</td>\n",
              "    </tr>\n",
              "    <tr>\n",
              "      <th>6</th>\n",
              "      <td>7</td>\n",
              "      <td>Rajesh</td>\n",
              "      <td>Thamran</td>\n",
              "      <td>56000</td>\n",
              "    </tr>\n",
              "    <tr>\n",
              "      <th>7</th>\n",
              "      <td>8</td>\n",
              "      <td>Raghu</td>\n",
              "      <td>Ram</td>\n",
              "      <td>43000</td>\n",
              "    </tr>\n",
              "    <tr>\n",
              "      <th>8</th>\n",
              "      <td>9</td>\n",
              "      <td>Arun</td>\n",
              "      <td>Vijay</td>\n",
              "      <td>27000</td>\n",
              "    </tr>\n",
              "    <tr>\n",
              "      <th>9</th>\n",
              "      <td>10</td>\n",
              "      <td>Ravi</td>\n",
              "      <td>Shastri</td>\n",
              "      <td>37000</td>\n",
              "    </tr>\n",
              "  </tbody>\n",
              "</table>\n",
              "</div>"
            ],
            "text/plain": [
              "  Bank Client ID First Name Last Name  Annual Salary ($/Year)\n",
              "0              1     Sheema       Rao                   25000\n",
              "1              2       Ravi     Takur                   30000\n",
              "2              3        Ram     Kumar                   54000\n",
              "3              4      Tessa    Andrew                   87000\n",
              "4              5       Guru      Nath                   32000\n",
              "5              6   Sheethal    Sharma                   76000\n",
              "6              7     Rajesh   Thamran                   56000\n",
              "7              8      Raghu       Ram                   43000\n",
              "8              9       Arun     Vijay                   27000\n",
              "9             10       Ravi   Shastri                   37000"
            ]
          },
          "execution_count": 73,
          "metadata": {},
          "output_type": "execute_result"
        }
      ],
      "source": [
        "bank_df_all = pd.merge(Bank_df_all, bank_df_salary, on = 'Bank Client ID')\n",
        "bank_df_all"
      ]
    },
    {
      "cell_type": "code",
      "execution_count": null,
      "metadata": {
        "execution": {
          "iopub.execute_input": "2023-01-16T20:22:28.512343Z",
          "iopub.status.busy": "2023-01-16T20:22:28.511846Z",
          "iopub.status.idle": "2023-01-16T20:22:28.524480Z",
          "shell.execute_reply": "2023-01-16T20:22:28.523782Z",
          "shell.execute_reply.started": "2023-01-16T20:22:28.512310Z"
        },
        "trusted": true,
        "id": "4gVRZAiG69q0",
        "outputId": "29653357-9ea6-4bda-9b3f-55a28d462ff3"
      },
      "outputs": [
        {
          "data": {
            "text/html": [
              "<div>\n",
              "<style scoped>\n",
              "    .dataframe tbody tr th:only-of-type {\n",
              "        vertical-align: middle;\n",
              "    }\n",
              "\n",
              "    .dataframe tbody tr th {\n",
              "        vertical-align: top;\n",
              "    }\n",
              "\n",
              "    .dataframe thead th {\n",
              "        text-align: right;\n",
              "    }\n",
              "</style>\n",
              "<table border=\"1\" class=\"dataframe\">\n",
              "  <thead>\n",
              "    <tr style=\"text-align: right;\">\n",
              "      <th></th>\n",
              "      <th>Bank Client ID</th>\n",
              "      <th>First Name</th>\n",
              "      <th>Last Name</th>\n",
              "      <th>Annual Salary ($/Year)</th>\n",
              "    </tr>\n",
              "  </thead>\n",
              "  <tbody>\n",
              "    <tr>\n",
              "      <th>10</th>\n",
              "      <td>11</td>\n",
              "      <td>Jeyasri</td>\n",
              "      <td>Senthil</td>\n",
              "      <td>100000</td>\n",
              "    </tr>\n",
              "  </tbody>\n",
              "</table>\n",
              "</div>"
            ],
            "text/plain": [
              "   Bank Client ID First Name Last Name  Annual Salary ($/Year)\n",
              "10             11    Jeyasri   Senthil                  100000"
            ]
          },
          "execution_count": 74,
          "metadata": {},
          "output_type": "execute_result"
        }
      ],
      "source": [
        "new_client = {'Bank Client ID':['11'],\n",
        "             'First Name':'Jeyasri',\n",
        "             'Last Name':'Senthil',\n",
        "             'Annual Salary ($/Year)':[100000]}\n",
        "new_client = pd.DataFrame(new_client, index = [10])\n",
        "new_client"
      ]
    },
    {
      "cell_type": "code",
      "execution_count": null,
      "metadata": {
        "execution": {
          "iopub.execute_input": "2023-01-16T20:22:28.526473Z",
          "iopub.status.busy": "2023-01-16T20:22:28.525513Z",
          "iopub.status.idle": "2023-01-16T20:22:28.537516Z",
          "shell.execute_reply": "2023-01-16T20:22:28.536859Z",
          "shell.execute_reply.started": "2023-01-16T20:22:28.526442Z"
        },
        "trusted": true,
        "id": "1TmhncCr69q0",
        "outputId": "e32f66d1-4676-46e4-c5e7-db1536404d4a"
      },
      "outputs": [
        {
          "data": {
            "text/html": [
              "<div>\n",
              "<style scoped>\n",
              "    .dataframe tbody tr th:only-of-type {\n",
              "        vertical-align: middle;\n",
              "    }\n",
              "\n",
              "    .dataframe tbody tr th {\n",
              "        vertical-align: top;\n",
              "    }\n",
              "\n",
              "    .dataframe thead th {\n",
              "        text-align: right;\n",
              "    }\n",
              "</style>\n",
              "<table border=\"1\" class=\"dataframe\">\n",
              "  <thead>\n",
              "    <tr style=\"text-align: right;\">\n",
              "      <th></th>\n",
              "      <th>Bank Client ID</th>\n",
              "      <th>First Name</th>\n",
              "      <th>Last Name</th>\n",
              "      <th>Annual Salary ($/Year)</th>\n",
              "    </tr>\n",
              "  </thead>\n",
              "  <tbody>\n",
              "    <tr>\n",
              "      <th>0</th>\n",
              "      <td>1</td>\n",
              "      <td>Sheema</td>\n",
              "      <td>Rao</td>\n",
              "      <td>25000</td>\n",
              "    </tr>\n",
              "    <tr>\n",
              "      <th>1</th>\n",
              "      <td>2</td>\n",
              "      <td>Ravi</td>\n",
              "      <td>Takur</td>\n",
              "      <td>30000</td>\n",
              "    </tr>\n",
              "    <tr>\n",
              "      <th>2</th>\n",
              "      <td>3</td>\n",
              "      <td>Ram</td>\n",
              "      <td>Kumar</td>\n",
              "      <td>54000</td>\n",
              "    </tr>\n",
              "    <tr>\n",
              "      <th>3</th>\n",
              "      <td>4</td>\n",
              "      <td>Tessa</td>\n",
              "      <td>Andrew</td>\n",
              "      <td>87000</td>\n",
              "    </tr>\n",
              "    <tr>\n",
              "      <th>4</th>\n",
              "      <td>5</td>\n",
              "      <td>Guru</td>\n",
              "      <td>Nath</td>\n",
              "      <td>32000</td>\n",
              "    </tr>\n",
              "    <tr>\n",
              "      <th>5</th>\n",
              "      <td>6</td>\n",
              "      <td>Sheethal</td>\n",
              "      <td>Sharma</td>\n",
              "      <td>76000</td>\n",
              "    </tr>\n",
              "    <tr>\n",
              "      <th>6</th>\n",
              "      <td>7</td>\n",
              "      <td>Rajesh</td>\n",
              "      <td>Thamran</td>\n",
              "      <td>56000</td>\n",
              "    </tr>\n",
              "    <tr>\n",
              "      <th>7</th>\n",
              "      <td>8</td>\n",
              "      <td>Raghu</td>\n",
              "      <td>Ram</td>\n",
              "      <td>43000</td>\n",
              "    </tr>\n",
              "    <tr>\n",
              "      <th>8</th>\n",
              "      <td>9</td>\n",
              "      <td>Arun</td>\n",
              "      <td>Vijay</td>\n",
              "      <td>27000</td>\n",
              "    </tr>\n",
              "    <tr>\n",
              "      <th>9</th>\n",
              "      <td>10</td>\n",
              "      <td>Ravi</td>\n",
              "      <td>Shastri</td>\n",
              "      <td>37000</td>\n",
              "    </tr>\n",
              "    <tr>\n",
              "      <th>10</th>\n",
              "      <td>11</td>\n",
              "      <td>Jeyasri</td>\n",
              "      <td>Senthil</td>\n",
              "      <td>100000</td>\n",
              "    </tr>\n",
              "  </tbody>\n",
              "</table>\n",
              "</div>"
            ],
            "text/plain": [
              "   Bank Client ID First Name Last Name  Annual Salary ($/Year)\n",
              "0               1     Sheema       Rao                   25000\n",
              "1               2       Ravi     Takur                   30000\n",
              "2               3        Ram     Kumar                   54000\n",
              "3               4      Tessa    Andrew                   87000\n",
              "4               5       Guru      Nath                   32000\n",
              "5               6   Sheethal    Sharma                   76000\n",
              "6               7     Rajesh   Thamran                   56000\n",
              "7               8      Raghu       Ram                   43000\n",
              "8               9       Arun     Vijay                   27000\n",
              "9              10       Ravi   Shastri                   37000\n",
              "10             11    Jeyasri   Senthil                  100000"
            ]
          },
          "execution_count": 75,
          "metadata": {},
          "output_type": "execute_result"
        }
      ],
      "source": [
        "pd.concat([bank_df_all, new_client])"
      ]
    },
    {
      "cell_type": "code",
      "execution_count": null,
      "metadata": {
        "id": "6TsU7sf469q0"
      },
      "outputs": [],
      "source": []
    }
  ],
  "metadata": {
    "colab": {
      "provenance": [],
      "include_colab_link": true
    },
    "kernelspec": {
      "display_name": "Python 3",
      "language": "python",
      "name": "python3"
    },
    "language_info": {
      "codemirror_mode": {
        "name": "ipython",
        "version": 3
      },
      "file_extension": ".py",
      "mimetype": "text/x-python",
      "name": "python",
      "nbconvert_exporter": "python",
      "pygments_lexer": "ipython3",
      "version": "3.10.14"
    }
  },
  "nbformat": 4,
  "nbformat_minor": 0
}